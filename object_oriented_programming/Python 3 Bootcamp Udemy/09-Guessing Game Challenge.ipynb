{
 "cells": [
  {
   "cell_type": "markdown",
   "metadata": {},
   "source": [
    "# Guessing Game Challenge\n",
    "\n",
    "Let's use `while` loops to create a guessing game.\n",
    "\n",
    "The Challenge:\n",
    "\n",
    "Write a program that picks a random integer from 1 to 100, and has players guess the number. The rules are:\n",
    "\n",
    "1. If a player's guess is less than 1 or greater than 100, say \"OUT OF BOUNDS\"\n",
    "2. On a player's first turn, if their guess is\n",
    " * within 10 of the number, return \"WARM!\"\n",
    " * further than 10 away from the number, return \"COLD!\"\n",
    "3. On all subsequent turns, if a guess is \n",
    " * closer to the number than the previous guess return \"WARMER!\"\n",
    " * farther from the number than the previous guess, return \"COLDER!\"\n",
    "4. When the player's guess equals the number, tell them they've guessed correctly *and* how many guesses it took!\n",
    "\n",
    "You can try this from scratch, or follow the steps outlined below. A separate Solution notebook has been provided. Good luck!\n"
   ]
  },
  {
   "cell_type": "markdown",
   "metadata": {},
   "source": [
    "#### First, pick a random integer from 1 to 100 using the random module and assign it to a variable\n",
    "\n",
    "Note: `random.randint(a,b)` returns a random integer in range `[a, b]`, including both end points."
   ]
  },
  {
   "cell_type": "code",
   "execution_count": 11,
   "metadata": {},
   "outputs": [],
   "source": [
    "from random import *"
   ]
  },
  {
   "cell_type": "code",
   "execution_count": 12,
   "metadata": {},
   "outputs": [],
   "source": [
    "actual_number = randint(1,100)"
   ]
  },
  {
   "cell_type": "code",
   "execution_count": 13,
   "metadata": {},
   "outputs": [
    {
     "name": "stdout",
     "output_type": "stream",
     "text": [
      "45\n"
     ]
    }
   ],
   "source": [
    "print(actual_number)"
   ]
  },
  {
   "cell_type": "markdown",
   "metadata": {},
   "source": [
    "#### Next, print an introduction to the game and explain the rules"
   ]
  },
  {
   "cell_type": "markdown",
   "metadata": {},
   "source": [
    "Hi! This program has chosen a random integer from 1 to 100. **Your goal is to guess the number**.\n",
    " - You'll receive hints such as WARM if your guess is within 10 values of the number or COLD if you are further away from the number.\n",
    " - If the next guess you did is closer to the number, you'll receive WARMER. Likewise, if your guess is farther than the number, you'll receive COLDER\n",
    " - You'll be notified when you have guessed correctly and informed on the number of guesses it took you."
   ]
  },
  {
   "cell_type": "markdown",
   "metadata": {},
   "source": [
    "#### Create a list to store guesses\n",
    "\n",
    "Hint: zero is a good placeholder value. It's useful because it evaluates to \"False\""
   ]
  },
  {
   "cell_type": "code",
   "execution_count": 14,
   "metadata": {},
   "outputs": [],
   "source": [
    "guesses = [0]\n",
    "#print(guesses[-2])"
   ]
  },
  {
   "cell_type": "markdown",
   "metadata": {},
   "source": [
    "#### Write a `while` loop that asks for a valid guess. Test it a few times to make sure it works."
   ]
  },
  {
   "cell_type": "code",
   "execution_count": 15,
   "metadata": {},
   "outputs": [
    {
     "name": "stdout",
     "output_type": "stream",
     "text": [
      "Input your guess:10\n",
      "You have done your guess!\n"
     ]
    }
   ],
   "source": [
    "while True:\n",
    "    user_guess = int(input('Input your guess:'))\n",
    "    if user_guess < 1 or user_guess > 100:\n",
    "        print('Out of bounds, please guess a number between 1 and 100')\n",
    "        continue\n",
    "    print('You have done your guess!')\n",
    "    break"
   ]
  },
  {
   "cell_type": "code",
   "execution_count": 16,
   "metadata": {},
   "outputs": [
    {
     "name": "stdout",
     "output_type": "stream",
     "text": [
      "10\n"
     ]
    }
   ],
   "source": [
    "print(user_guess)"
   ]
  },
  {
   "cell_type": "markdown",
   "metadata": {},
   "source": [
    "#### Write a `while` loop that compares the player's guess to our number. If the player guesses correctly, break from the loop. Otherwise, tell the player if they're warmer or colder, and continue asking for guesses.\n",
    "\n",
    "Some hints:\n",
    "* it may help to sketch out all possible combinations on paper first!\n",
    "* you can use the `abs()` function to find the positive difference between two numbers\n",
    "* if you append all new guesses to the list, then the previous guess is given as `guesses[-2]`"
   ]
  },
  {
   "cell_type": "code",
   "execution_count": 17,
   "metadata": {},
   "outputs": [
    {
     "data": {
      "text/plain": [
       "'\\nVariables:\\n    - actual_number\\n    - guesses (list)\\n    - user_guess \\n\\n1) On a player\\'s first turn, if their guess is\\n\\n    within 10 of the number, return \"WARM!\"\\n    further than 10 away from the number, return \"COLD!\"\\n\\n2) On all subsequent turns, if a guess is\\n\\n    closer to the number than the previous guess return \"WARMER!\"\\n    farther from the number than the previous guess, return \"COLDER!\"\\n'"
      ]
     },
     "execution_count": 17,
     "metadata": {},
     "output_type": "execute_result"
    }
   ],
   "source": [
    "'''\n",
    "Variables:\n",
    "    - actual_number\n",
    "    - guesses (list)\n",
    "    - user_guess \n",
    "\n",
    "1) On a player's first turn, if their guess is\n",
    "\n",
    "    within 10 of the number, return \"WARM!\"\n",
    "    further than 10 away from the number, return \"COLD!\"\n",
    "\n",
    "2) On all subsequent turns, if a guess is\n",
    "\n",
    "    closer to the number than the previous guess return \"WARMER!\"\n",
    "    farther from the number than the previous guess, return \"COLDER!\"\n",
    "'''"
   ]
  },
  {
   "cell_type": "code",
   "execution_count": 18,
   "metadata": {},
   "outputs": [],
   "source": [
    "# Edge cases --> Sketch on paper"
   ]
  },
  {
   "cell_type": "code",
   "execution_count": 19,
   "metadata": {},
   "outputs": [
    {
     "name": "stdout",
     "output_type": "stream",
     "text": [
      "Guesses  [0, 10]\n",
      "Actual difference:  35\n",
      "previous_difference:  45\n",
      "First guess COLD\n",
      "Guess again: 11\n",
      "Guesses  [0, 10, 11]\n",
      "Actual difference:  34\n",
      "previous_difference:  35\n",
      "Warmer\n",
      "Guess again: 15\n",
      "Guesses  [0, 10, 11, 15]\n",
      "Actual difference:  30\n",
      "previous_difference:  34\n",
      "Warmer\n",
      "Guess again: 10\n",
      "Guesses  [0, 10, 11, 15, 10]\n",
      "Actual difference:  35\n",
      "previous_difference:  30\n",
      "Colder\n",
      "Guess again: 20\n",
      "Guesses  [0, 10, 11, 15, 10, 20]\n",
      "Actual difference:  25\n",
      "previous_difference:  35\n",
      "Warmer\n",
      "Guess again: 30\n",
      "Guesses  [0, 10, 11, 15, 10, 20, 30]\n",
      "Actual difference:  15\n",
      "previous_difference:  25\n",
      "Warmer\n",
      "Guess again: 35\n",
      "Guesses  [0, 10, 11, 15, 10, 20, 30, 35]\n",
      "Actual difference:  10\n",
      "previous_difference:  15\n",
      "Warmer\n",
      "Guess again: 40\n",
      "Guesses  [0, 10, 11, 15, 10, 20, 30, 35, 40]\n",
      "Actual difference:  5\n",
      "previous_difference:  10\n",
      "Warmer\n",
      "Guess again: 50\n",
      "Guesses  [0, 10, 11, 15, 10, 20, 30, 35, 40, 50]\n",
      "Actual difference:  5\n",
      "previous_difference:  5\n",
      "Colder\n",
      "Guess again: 46\n",
      "Guesses  [0, 10, 11, 15, 10, 20, 30, 35, 40, 50, 46]\n",
      "Actual difference:  1\n",
      "previous_difference:  5\n",
      "Warmer\n",
      "Guess again: 45\n",
      "You guessed correclty!\n"
     ]
    }
   ],
   "source": [
    "first_turn = 0 #flag\n",
    "\n",
    "while True:\n",
    "    if user_guess == actual_number:\n",
    "        print('You guessed correclty!')\n",
    "        break\n",
    "    \n",
    "    guesses.append(user_guess)\n",
    "    print('Guesses ', guesses)\n",
    "    actual_difference = abs(user_guess-actual_number)\n",
    "    print('Actual difference: ', actual_difference)\n",
    "    previous_difference = abs(guesses[-2]-actual_number)\n",
    "    print('previous_difference: ', previous_difference)\n",
    "    \n",
    "    #First Turn\n",
    "    if actual_difference > 10 and first_turn == 0:\n",
    "        print('First guess COLD')\n",
    "        #guesses.append(user_guess)\n",
    "        user_guess = int(input('Guess again: '))\n",
    "        first_turn += 1\n",
    "        continue\n",
    "   \n",
    "    elif actual_difference <= 10 and first_turn == 0:\n",
    "        print('First guess WARM')\n",
    "        #guesses.append(user_guess)\n",
    "        user_guess = int(input('Guess again: '))\n",
    "        first_turn += 1\n",
    "        continue\n",
    "    \n",
    "    # Subsequent guesses\n",
    "    if actual_difference < previous_difference: # the objective is to decrease this difference to zero\n",
    "        print('Warmer')\n",
    "        #guesses.append(user_guess)\n",
    "        user_guess = int(input('Guess again: '))\n",
    "        continue\n",
    "        \n",
    "    else:\n",
    "        print('Colder')\n",
    "        #guesses.append(user_guess)\n",
    "        user_guess = int(input('Guess again: '))\n",
    "        continue"
   ]
  },
  {
   "cell_type": "markdown",
   "metadata": {},
   "source": [
    "That's it! You've just programmed your first game!\n",
    "\n",
    "In the next section we'll learn how to turn some of these repetitive actions into *functions* that can be called whenever we need them."
   ]
  },
  {
   "cell_type": "code",
   "execution_count": null,
   "metadata": {},
   "outputs": [],
   "source": []
  },
  {
   "cell_type": "code",
   "execution_count": null,
   "metadata": {},
   "outputs": [],
   "source": []
  },
  {
   "cell_type": "code",
   "execution_count": null,
   "metadata": {},
   "outputs": [],
   "source": []
  }
 ],
 "metadata": {
  "kernelspec": {
   "display_name": "Python 3",
   "language": "python",
   "name": "python3"
  },
  "language_info": {
   "codemirror_mode": {
    "name": "ipython",
    "version": 3
   },
   "file_extension": ".py",
   "mimetype": "text/x-python",
   "name": "python",
   "nbconvert_exporter": "python",
   "pygments_lexer": "ipython3",
   "version": "3.7.2"
  }
 },
 "nbformat": 4,
 "nbformat_minor": 2
}
