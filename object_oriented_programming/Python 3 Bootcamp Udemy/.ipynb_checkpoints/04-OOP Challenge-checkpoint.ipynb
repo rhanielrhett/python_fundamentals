{
 "cells": [
  {
   "cell_type": "markdown",
   "metadata": {},
   "source": [
    "# Object Oriented Programming Challenge\n",
    "\n",
    "For this challenge, create a bank account class that has two attributes:\n",
    "\n",
    "* owner\n",
    "* balance\n",
    "\n",
    "and two methods:\n",
    "\n",
    "* deposit\n",
    "* withdraw\n",
    "\n",
    "As an added requirement, withdrawals may not exceed the available balance.\n",
    "\n",
    "Instantiate your class, make several deposits and withdrawals, and test to make sure the account can't be overdrawn."
   ]
  },
  {
   "cell_type": "code",
   "execution_count": 1,
   "metadata": {},
   "outputs": [],
   "source": [
    "class Account:\n",
    "    def __init__(self, owner, balance): #owner str, balance float\n",
    "        self.owner = owner\n",
    "        self.balance = balance\n",
    "    \n",
    "    def __str__(self): # should return string, not print\n",
    "        return 'Account owner: {0}, Account balance: ${1}'.format(self.owner, self.balance)\n",
    "        #print('Account owner: ', self.owner)\n",
    "        #print('Account balance: ', self.balance)\n",
    "        \n",
    "    # Our two methods will AFFECT directly the balance attribute\n",
    "    def deposit(self, deposit):\n",
    "        self.balance = self.balance + deposit\n",
    "        print('Deposit accepted')\n",
    "        \n",
    "    def withdraw(self, withdraw):\n",
    "        if withdraw > self.balance:\n",
    "            print('Insuficient funds, you want to withdraw more money than what you have in your account.')\n",
    "        \n",
    "        else:\n",
    "            self.balance = self.balance - withdraw # we are not returning, just modifying the attribute\n",
    "            print('Withdrawal accepted')"
   ]
  },
  {
   "cell_type": "code",
   "execution_count": 2,
   "metadata": {},
   "outputs": [],
   "source": [
    "# 1. Instantiate the class\n",
    "acct1 = Account('Jose', 100)"
   ]
  },
  {
   "cell_type": "code",
   "execution_count": 3,
   "metadata": {},
   "outputs": [
    {
     "name": "stdout",
     "output_type": "stream",
     "text": [
      "Account owner: Jose, Account balance: $100\n"
     ]
    }
   ],
   "source": [
    "# 2. Print the object\n",
    "print(acct1)"
   ]
  },
  {
   "cell_type": "code",
   "execution_count": 4,
   "metadata": {},
   "outputs": [
    {
     "data": {
      "text/plain": [
       "'Jose'"
      ]
     },
     "execution_count": 4,
     "metadata": {},
     "output_type": "execute_result"
    }
   ],
   "source": [
    "# 3. Show the account owner attribute\n",
    "acct1.owner"
   ]
  },
  {
   "cell_type": "code",
   "execution_count": 6,
   "metadata": {},
   "outputs": [
    {
     "data": {
      "text/plain": [
       "100"
      ]
     },
     "execution_count": 6,
     "metadata": {},
     "output_type": "execute_result"
    }
   ],
   "source": [
    "# 4. Show the account balance attribute\n",
    "acct1.balance"
   ]
  },
  {
   "cell_type": "code",
   "execution_count": 7,
   "metadata": {},
   "outputs": [
    {
     "name": "stdout",
     "output_type": "stream",
     "text": [
      "Deposit accepted\n"
     ]
    }
   ],
   "source": [
    "# 5. Make a series of deposits and withdrawals\n",
    "acct1.deposit(100) # TO DO:check this one..."
   ]
  },
  {
   "cell_type": "code",
   "execution_count": 8,
   "metadata": {},
   "outputs": [
    {
     "data": {
      "text/plain": [
       "200"
      ]
     },
     "execution_count": 8,
     "metadata": {},
     "output_type": "execute_result"
    }
   ],
   "source": [
    "acct1.balance"
   ]
  },
  {
   "cell_type": "code",
   "execution_count": 9,
   "metadata": {},
   "outputs": [
    {
     "name": "stdout",
     "output_type": "stream",
     "text": [
      "Withdrawal accepted\n"
     ]
    }
   ],
   "source": [
    "acct1.withdraw(75)"
   ]
  },
  {
   "cell_type": "code",
   "execution_count": 10,
   "metadata": {},
   "outputs": [
    {
     "name": "stdout",
     "output_type": "stream",
     "text": [
      "Insuficient funds, you want to withdraw more money than what you have in your account.\n"
     ]
    }
   ],
   "source": [
    "# 6. Make a withdrawal that exceeds the available balance\n",
    "acct1.withdraw(500)"
   ]
  },
  {
   "cell_type": "code",
   "execution_count": 14,
   "metadata": {},
   "outputs": [
    {
     "name": "stdout",
     "output_type": "stream",
     "text": [
      "Withdrawal accepted\n"
     ]
    }
   ],
   "source": [
    "acct1.withdraw(100)"
   ]
  },
  {
   "cell_type": "code",
   "execution_count": 15,
   "metadata": {},
   "outputs": [
    {
     "data": {
      "text/plain": [
       "25"
      ]
     },
     "execution_count": 15,
     "metadata": {},
     "output_type": "execute_result"
    }
   ],
   "source": [
    "acct1.balance"
   ]
  },
  {
   "cell_type": "code",
   "execution_count": 17,
   "metadata": {},
   "outputs": [
    {
     "name": "stdout",
     "output_type": "stream",
     "text": [
      "Insuficient funds, you want to withdraw more money than what you have in your account.\n"
     ]
    }
   ],
   "source": [
    "acct1.withdraw(30)"
   ]
  },
  {
   "cell_type": "code",
   "execution_count": 18,
   "metadata": {},
   "outputs": [
    {
     "data": {
      "text/plain": [
       "25"
      ]
     },
     "execution_count": 18,
     "metadata": {},
     "output_type": "execute_result"
    }
   ],
   "source": [
    "acct1.balance"
   ]
  },
  {
   "cell_type": "code",
   "execution_count": null,
   "metadata": {},
   "outputs": [],
   "source": []
  }
 ],
 "metadata": {
  "kernelspec": {
   "display_name": "Python 2",
   "language": "python",
   "name": "python2"
  },
  "language_info": {
   "codemirror_mode": {
    "name": "ipython",
    "version": 2
   },
   "file_extension": ".py",
   "mimetype": "text/x-python",
   "name": "python",
   "nbconvert_exporter": "python",
   "pygments_lexer": "ipython2",
   "version": "2.7.15"
  }
 },
 "nbformat": 4,
 "nbformat_minor": 2
}
