{
 "cells": [
  {
   "cell_type": "markdown",
   "metadata": {},
   "source": [
    "# Milestone Project 1: Walkthrough Steps Workbook\n",
    "\n",
    "Below is a set of steps for you to follow to try to create the Tic Tac Toe Milestone Project game!"
   ]
  },
  {
   "cell_type": "markdown",
   "metadata": {},
   "source": [
    "#### Some suggested tools before you get started:\n",
    "To take input from a user:\n",
    "\n",
    "    player1 = input(\"Please pick a marker 'X' or 'O'\")\n",
    "    \n",
    "Note that input() takes in a string. If you need an integer value, use\n",
    "\n",
    "    position = int(input('Please enter a number'))\n",
    "    \n",
    "<br>To clear the screen between moves:\n",
    "\n",
    "    from IPython.display import clear_output\n",
    "    clear_output()\n",
    "    \n",
    "Note that clear_output() will only work in jupyter. To clear the screen in other IDEs, consider:\n",
    "\n",
    "    print('\\n'*100)\n",
    "    \n",
    "This scrolls the previous board up out of view. Now on to the program!"
   ]
  },
  {
   "cell_type": "markdown",
   "metadata": {},
   "source": [
    "**Step 1: Write a function that can print out a board. Set up your board as a list, where each index 1-9 corresponds with a number on a number pad, so you get a 3 by 3 board representation.**"
   ]
  },
  {
   "cell_type": "code",
   "execution_count": 1,
   "metadata": {},
   "outputs": [],
   "source": [
    "from IPython.display import clear_output\n",
    "\n",
    "def display_board(board):\n",
    "    clear_output()\n",
    "    print('---------')\n",
    "    print(board[7] + ' | ' + board[8] + ' | ' + board[9])\n",
    "    print(board[4] + ' | ' + board[5] + ' | ' + board[6])\n",
    "    print(board[1] + ' | ' + board[2] + ' | ' + board[3])\n",
    "    print('---------')"
   ]
  },
  {
   "cell_type": "markdown",
   "metadata": {},
   "source": [
    "**TEST Step 1:** run your function on a test version of the board list, and make adjustments as necessary"
   ]
  },
  {
   "cell_type": "code",
   "execution_count": 2,
   "metadata": {},
   "outputs": [
    {
     "name": "stdout",
     "output_type": "stream",
     "text": [
      "---------\n",
      "X | O | X\n",
      "O | X | O\n",
      "X | O | O\n",
      "---------\n"
     ]
    }
   ],
   "source": [
    "test_board = ['#','X','O','O','O','X','O','X','O','X']\n",
    "display_board(test_board)"
   ]
  },
  {
   "cell_type": "markdown",
   "metadata": {},
   "source": [
    "**Step 2: Write a function that can take in a player input and assign their marker as 'X' or 'O'. Think about using *while* loops to continually ask until you get a correct answer.**"
   ]
  },
  {
   "cell_type": "code",
   "execution_count": 2,
   "metadata": {},
   "outputs": [],
   "source": [
    "def player_input():\n",
    "    marker = \" \"\n",
    "    \n",
    "    while marker != 'X' and marker != 'O':\n",
    "        marker = input(\"Player 1 pick a marker 'X' or 'O': \")\n",
    "        #print(player1)\n",
    "        #print(type(player1))\n",
    "    \n",
    "    player1 = marker\n",
    "    \n",
    "    if player1 == 'X':\n",
    "        player2 = 'O'\n",
    "    \n",
    "    else:\n",
    "        player2 = 'X'\n",
    "    \n",
    "    #print(player1, player2)\n",
    "    return (player1, player2)"
   ]
  },
  {
   "cell_type": "markdown",
   "metadata": {},
   "source": [
    "**TEST Step 2:** run the function to make sure it returns the desired output"
   ]
  },
  {
   "cell_type": "code",
   "execution_count": 4,
   "metadata": {},
   "outputs": [
    {
     "name": "stdout",
     "output_type": "stream",
     "text": [
      "Player 1 pick a marker 'X' or 'O': X\n"
     ]
    },
    {
     "data": {
      "text/plain": [
       "('X', 'O')"
      ]
     },
     "execution_count": 4,
     "metadata": {},
     "output_type": "execute_result"
    }
   ],
   "source": [
    "player_input()"
   ]
  },
  {
   "cell_type": "markdown",
   "metadata": {},
   "source": [
    "**Step 3: Write a function that takes in the board list object, a marker ('X' or 'O'), and a desired position (number 1-9) and assigns it to the board.**"
   ]
  },
  {
   "cell_type": "code",
   "execution_count": 5,
   "metadata": {},
   "outputs": [],
   "source": [
    "test_board = ['#',' ',' ',' ',' ',' ',' ',' ',' ',' ']"
   ]
  },
  {
   "cell_type": "code",
   "execution_count": 3,
   "metadata": {},
   "outputs": [],
   "source": [
    "def place_marker(board, marker, position):\n",
    "    # we'll rewrite the board list\n",
    "    # not verifying each input --> assume they are correct \n",
    "    board[position] = marker\n",
    "    return board"
   ]
  },
  {
   "cell_type": "markdown",
   "metadata": {},
   "source": [
    "**TEST Step 3:** run the place marker function using test parameters and display the modified board"
   ]
  },
  {
   "cell_type": "code",
   "execution_count": 7,
   "metadata": {},
   "outputs": [
    {
     "name": "stdout",
     "output_type": "stream",
     "text": [
      "---------\n",
      "  |   |  \n",
      "  |   | X\n",
      "  |   |  \n",
      "---------\n"
     ]
    }
   ],
   "source": [
    "place_marker(test_board,'X',6)\n",
    "display_board(test_board)"
   ]
  },
  {
   "cell_type": "markdown",
   "metadata": {},
   "source": [
    "**Step 4: Write a function that takes in a board and a mark (X or O) and then checks to see if that mark has won.**"
   ]
  },
  {
   "cell_type": "code",
   "execution_count": 8,
   "metadata": {},
   "outputs": [
    {
     "name": "stdout",
     "output_type": "stream",
     "text": [
      "---------\n",
      "  | O |  \n",
      "O | X | O\n",
      "X | O | X\n",
      "---------\n"
     ]
    }
   ],
   "source": [
    "#test_board = ['#','X','X','O','O','O','X','X','O','X'] # CASE WORKS\n",
    "test_board = ['#','X','O','X','O','X','O',' ','O',' '] # CASE DOESN'T WORK\n",
    "#test_board = ['#','X','X','X','','O','O','','',''] # analyze the case when tuple for marked positions is bigger than 3\n",
    "display_board(test_board)"
   ]
  },
  {
   "cell_type": "code",
   "execution_count": 4,
   "metadata": {},
   "outputs": [],
   "source": [
    "# Second Idea\n",
    "def win_check(board, mark):\n",
    "    # define all winning configurations\n",
    "    diagonal_1 = (1,5,9)\n",
    "    diagonal_2 = (3,5,7)\n",
    "\n",
    "    column_1 = (1,4,7)\n",
    "    column_2 = (2,5,8)\n",
    "    column_3 = (3,6,9)\n",
    "\n",
    "    row_1 = (1,2,3)\n",
    "    row_2 = (4,5,6)\n",
    "    row_3 = (7,8,9)\n",
    "    \n",
    "    # check win by looping over rows, columns and diagonals\n",
    "    for row in [row_1,row_2,row_3, column_1, column_2, column_3, diagonal_1, diagonal_2]:\n",
    "        isWin = True\n",
    "        for pos in row:\n",
    "            #print(board[pos])\n",
    "            if not board[pos] == mark: #must fulfill the three elements\n",
    "                isWin = False\n",
    "                #print(isWin)\n",
    "                break\n",
    "            \n",
    "        if isWin:\n",
    "            #print(row)\n",
    "            return True\n",
    "            #return row\n",
    "        \n",
    "    #print(row)       \n",
    "    return False   "
   ]
  },
  {
   "cell_type": "code",
   "execution_count": 10,
   "metadata": {},
   "outputs": [],
   "source": [
    "#win_check(test_board,'X')"
   ]
  },
  {
   "cell_type": "code",
   "execution_count": 11,
   "metadata": {},
   "outputs": [],
   "source": [
    "# First Idea\n",
    "#def win_check(board, mark): # this check should alternate from X to O and so on ...\n",
    "    #diagonal_1 = (1,5,9)\n",
    "    #diagonal_2 = (3,5,7)\n",
    "\n",
    "    #column_1 = (1,4,7)\n",
    "    #column_2 = (2,5,8)\n",
    "    #column_3 = (3,6,9)\n",
    "\n",
    "    #row_1 = (1,2,3)\n",
    "    #row_2 = (4,5,6)\n",
    "    #row_3 = (7,8,9)\n",
    "    \n",
    "    #win_space = [diagonal_1, diagonal_2, vertical_1, vertical_2, vertical_3, horizontal_1, horizontal_2, horizontal_3]\n",
    "\n",
    "    #mark_positions = tuple((i for i, e in enumerate(test_board) if e == mark)) # mark 'X' or 'O'\n",
    "    #print('Mark positions: ', mark_positions)\n",
    "    \n",
    "    #for win_triplet in win_space:\n",
    "        #print('Win triplet: ', win_triplet)\n",
    "        #if any(win_triplet == mark_positions[i:len(win_triplet) + i] for i in range(len(mark_positions) - len(win_triplet) + 1)):\n",
    "            #return True\n",
    "    #else:\n",
    "        #return False"
   ]
  },
  {
   "cell_type": "markdown",
   "metadata": {},
   "source": [
    "**TEST Step 4:** run the win_check function against our test_board - it should return True"
   ]
  },
  {
   "cell_type": "code",
   "execution_count": 12,
   "metadata": {},
   "outputs": [
    {
     "data": {
      "text/plain": [
       "False"
      ]
     },
     "execution_count": 12,
     "metadata": {},
     "output_type": "execute_result"
    }
   ],
   "source": [
    "win_check(test_board,'X')"
   ]
  },
  {
   "cell_type": "markdown",
   "metadata": {},
   "source": [
    "**Step 5: Write a function that uses the random module to randomly decide which player goes first. You may want to lookup random.randint() Return a string of which player went first.**"
   ]
  },
  {
   "cell_type": "code",
   "execution_count": 13,
   "metadata": {},
   "outputs": [],
   "source": [
    "# player 2 or player 1"
   ]
  },
  {
   "cell_type": "code",
   "execution_count": 5,
   "metadata": {},
   "outputs": [],
   "source": [
    "import random\n",
    "\n",
    "# returns string\n",
    "def choose_first():\n",
    "    if random.randint(1,2) == 1:\n",
    "        return 'Player 1'\n",
    "    else:\n",
    "        return 'Player 2'"
   ]
  },
  {
   "cell_type": "code",
   "execution_count": 15,
   "metadata": {},
   "outputs": [
    {
     "data": {
      "text/plain": [
       "'Player 1'"
      ]
     },
     "execution_count": 15,
     "metadata": {},
     "output_type": "execute_result"
    }
   ],
   "source": [
    "choose_first()"
   ]
  },
  {
   "cell_type": "markdown",
   "metadata": {},
   "source": [
    "**Step 6: Write a function that returns a boolean indicating whether a space on the board is freely available.**"
   ]
  },
  {
   "cell_type": "code",
   "execution_count": 16,
   "metadata": {},
   "outputs": [
    {
     "data": {
      "text/plain": [
       "['#', 'X', 'O', 'X', 'O', 'X', 'O', ' ', 'O', ' ']"
      ]
     },
     "execution_count": 16,
     "metadata": {},
     "output_type": "execute_result"
    }
   ],
   "source": [
    "test_board"
   ]
  },
  {
   "cell_type": "code",
   "execution_count": 17,
   "metadata": {},
   "outputs": [
    {
     "name": "stdout",
     "output_type": "stream",
     "text": [
      "---------\n",
      "  | O |  \n",
      "O | X | O\n",
      "X | O | X\n",
      "---------\n"
     ]
    }
   ],
   "source": [
    "display_board(test_board)"
   ]
  },
  {
   "cell_type": "code",
   "execution_count": 6,
   "metadata": {},
   "outputs": [],
   "source": [
    "def space_check(board, position):\n",
    "    #if board[position] != 'X' or board[position] != 'O': #check free space\n",
    "    if board[position] == ' ':\n",
    "        return True\n",
    "    else:\n",
    "        return False"
   ]
  },
  {
   "cell_type": "markdown",
   "metadata": {},
   "source": [
    "**Step 7: Write a function that checks if the board is full and returns a boolean value. True if full, False otherwise.**"
   ]
  },
  {
   "cell_type": "code",
   "execution_count": 7,
   "metadata": {},
   "outputs": [],
   "source": [
    "def full_board_check(board):\n",
    "    # assume empty space will ALWAYS have form ' '\n",
    "    empty_space = ' '\n",
    "    if empty_space in board:\n",
    "        return False #board not full\n",
    "    else:\n",
    "        return True"
   ]
  },
  {
   "cell_type": "code",
   "execution_count": 2,
   "metadata": {},
   "outputs": [],
   "source": [
    "board = ['#','X','X','X','X','X','X','X','X','X']"
   ]
  },
  {
   "cell_type": "code",
   "execution_count": 3,
   "metadata": {},
   "outputs": [
    {
     "data": {
      "text/plain": [
       "True"
      ]
     },
     "execution_count": 3,
     "metadata": {},
     "output_type": "execute_result"
    }
   ],
   "source": [
    "full_board_check(board)"
   ]
  },
  {
   "cell_type": "markdown",
   "metadata": {},
   "source": [
    "**Step 8: Write a function that asks for a player's next position (as a number 1-9) and then uses the function from step 6 to check if it's a free position. If it is, then return the position for later use.**"
   ]
  },
  {
   "cell_type": "code",
   "execution_count": 8,
   "metadata": {},
   "outputs": [],
   "source": [
    "def player_choice(board, player_in_turn):\n",
    "    # Using while until player chooses empty space\n",
    "    while True:\n",
    "        position = int(input('{} please enter your position: '.format(player_in_turn)))\n",
    "        \n",
    "        if space_check(board,position):\n",
    "            return position\n",
    "            #break\n",
    "        \n",
    "        else:\n",
    "            print('That position is not free, choose another one')\n",
    "    \n",
    "    #return position"
   ]
  },
  {
   "cell_type": "markdown",
   "metadata": {},
   "source": [
    "**Step 9: Write a function that asks the player if they want to play again and returns a boolean True if they do want to play again.**"
   ]
  },
  {
   "cell_type": "code",
   "execution_count": 9,
   "metadata": {},
   "outputs": [],
   "source": [
    "def replay():\n",
    "    play_again = input('Play again (Yes or No)? ')\n",
    "    \n",
    "    if play_again == 'Yes':\n",
    "        return True \n",
    "    else:\n",
    "        return False"
   ]
  },
  {
   "cell_type": "markdown",
   "metadata": {
    "collapsed": true
   },
   "source": [
    "**Step 10: Here comes the hard part! Use while loops and the functions you've made to run the game!**"
   ]
  },
  {
   "cell_type": "code",
   "execution_count": 21,
   "metadata": {},
   "outputs": [],
   "source": [
    "# Functions written:\n",
    "# 1 display_board\n",
    "# 2 player_input: returns tuple (X,O) or (O,X)\n",
    "# 3 place_marker\n",
    "# 4 win_check\n",
    "# 5 choose_first: determine if player 1 or player 2 go first\n",
    "# 6 space_check: boolean indicating if space is available\n",
    "# 7 full_board_check: check if board is full\n",
    "# 8 player_choice: ask for players next position\n",
    "# 9 replay"
   ]
  },
  {
   "cell_type": "code",
   "execution_count": 11,
   "metadata": {},
   "outputs": [
    {
     "name": "stdout",
     "output_type": "stream",
     "text": [
      "---------\n",
      "O | X | O\n",
      "O | X | X\n",
      "X | O | O\n",
      "---------\n",
      "It is a tie!\n",
      "Play again (Yes or No)? No\n"
     ]
    }
   ],
   "source": [
    "# go testing step by step ...\n",
    "print('Welcome to Tic Tac Toe!')\n",
    "while True:\n",
    "    # Set the game up here\n",
    "    print('Initial Board is empty...')\n",
    "    board = ['#',' ',' ',' ',' ',' ',' ',' ',' ',' ']\n",
    "    #display_board(board)\n",
    "    \n",
    "    player_1_mark, player_2_mark = player_input() # tuple unpack X and O for each player\n",
    "    print('Player 1 is ', player_1_mark)\n",
    "    print('Player 2 is ', player_2_mark)\n",
    "    \n",
    "    next_to_go = choose_first() #'Player 1' or 'Player 2' randomly --> Alternating variable\n",
    "    print(next_to_go + ' goes first')\n",
    "    \n",
    "    game_on = True\n",
    "    \n",
    "    while game_on:\n",
    "    #while not full_board_check(board): #while True, will break when board is full\n",
    "        #print('Board not full')\n",
    "        \n",
    "        # Player 1 Turn \n",
    "        if next_to_go == 'Player 1':\n",
    "            player_position = player_choice(board, next_to_go) # Select position in the board\n",
    "            place_marker(board, player_1_mark, player_position) # place marker\n",
    "            display_board(board) # display updated board\n",
    "                        \n",
    "            if win_check(board, player_1_mark): # returns True if there is a win\n",
    "                print(next_to_go + ' has won the game')\n",
    "                game_on = False\n",
    "                #break\n",
    "            else:\n",
    "                if full_board_check(board):\n",
    "                    print('It is a tie!')  \n",
    "                    game_on = False\n",
    "                else:\n",
    "                    next_to_go = 'Player 2' # switch player\n",
    "        \n",
    "        # Player 2 Turn\n",
    "        #if next_to_go == 'Player 2':\n",
    "        else:\n",
    "            player_position = player_choice(board, next_to_go) # Select position in the board\n",
    "            place_marker(board, player_2_mark, player_position) # place marker\n",
    "            display_board(board) # display updated board\n",
    "            \n",
    "            if win_check(board, player_2_mark): # returns True if there is a win\n",
    "                print(next_to_go + ' has won the game')\n",
    "                game_on = False\n",
    "                #break\n",
    "            else:\n",
    "                if full_board_check(board):\n",
    "                    print('It is a tie!')  \n",
    "                    game_on = False\n",
    "                else:\n",
    "                    next_to_go = 'Player 1' # switch player\n",
    "                \n",
    "            #next_to_go = 'Player 1' # switch player\n",
    "\n",
    "    if not replay():\n",
    "        break\n",
    "\n",
    "# TO DO: Check case when no one wins!!"
   ]
  }
 ],
 "metadata": {
  "kernelspec": {
   "display_name": "Python 3",
   "language": "python",
   "name": "python3"
  },
  "language_info": {
   "codemirror_mode": {
    "name": "ipython",
    "version": 3
   },
   "file_extension": ".py",
   "mimetype": "text/x-python",
   "name": "python",
   "nbconvert_exporter": "python",
   "pygments_lexer": "ipython3",
   "version": "3.7.2"
  }
 },
 "nbformat": 4,
 "nbformat_minor": 1
}
