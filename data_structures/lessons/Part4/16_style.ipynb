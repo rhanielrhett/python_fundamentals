{
 "cells": [
  {
   "cell_type": "markdown",
   "metadata": {},
   "source": [
    "# Programming Style\n",
    "\n",
    "\n",
    "**Learning Objectives**:\n",
    "- Learn how to write code for others (and your future self!)\n",
    "- Understand why good style improves code quality\n",
    "- Explore main principles of Python style\n",
    "* * * * *"
   ]
  },
  {
   "cell_type": "markdown",
   "metadata": {},
   "source": [
    "## Readable code is good code!\n",
    "\n",
    "If you ask Python programmers what they like most in Python, they will often say its high readability. Indeed, a high level of readability is a key tenet of the design of the Python language."
   ]
  },
  {
   "cell_type": "markdown",
   "metadata": {},
   "source": [
    "## Comments\n",
    "\n",
    "To help explain your code, you can include **comments** to explain what is going on. Comments are signified with a `#` at the beginning of the line and explain *why* you are using blocks of code and *how* code works. For example, much of the code up until this point has been commented to point out key features or operations. Often, it helps to start by commenting most lines of code in-line, and over time you will form an intuition for where comments are necessary and where they are not. Good comments also go hand-in-hand with good variable names!\n",
    "\n",
    "**Question:** Some code is commented below. What is helpful about the comments? What could be improved?"
   ]
  },
  {
   "cell_type": "code",
   "execution_count": null,
   "metadata": {},
   "outputs": [],
   "source": [
    "import numpy as np\n",
    "\n",
    "#list of proportions\n",
    "proportion_list = [.96821,.78998,.86898,.98981298]\n",
    "\n",
    "for prop in proportion_list:\n",
    "    \n",
    "    percent = prop * 100 #multiply by 100\n",
    "    percent = round(percent,1)\n",
    "    print(percent,'%')\n",
    "\n"
   ]
  },
  {
   "cell_type": "markdown",
   "metadata": {},
   "source": [
    "## Long lines\n",
    "Another principle of good Python coding is to keep lines short enough that you don't need to scroll. This is true of both code and comments!\n",
    "\n",
    "You can use **implied line continuation** inside parentheses, most commonly by including line breaks at commas."
   ]
  },
  {
   "cell_type": "code",
   "execution_count": null,
   "metadata": {},
   "outputs": [],
   "source": [
    "a_long_list = ['bannana','apple','pineapple',\n",
    "               'mango','strawberry','guava',\n",
    "               'lychee','peach']"
   ]
  },
  {
   "cell_type": "markdown",
   "metadata": {},
   "source": [
    "## Pythonic Coding\n",
    "\n",
    "A third principle of readable code is called **Pythonic coding**. This is taking advantage of the design of Python to make more readable code. \n",
    "\n",
    "**Question:** The following two approaches are equivalent. What is happening? Which do you find easier to read?"
   ]
  },
  {
   "cell_type": "code",
   "execution_count": null,
   "metadata": {},
   "outputs": [],
   "source": [
    "s = 'sample.thing'\n",
    "\n",
    "# First approach\n",
    "slist = s.split('.')\n",
    "first_word = slist[0]\n",
    "first_letter = first_word[0]\n",
    "first_upper = first_letter.upper()\n",
    "\n",
    "# Second approach\n",
    "second_upper = s.split('.')[0][0].upper()\n",
    "\n",
    "# Check that they are identical \n",
    "#print(first_upper, second_upper)"
   ]
  },
  {
   "cell_type": "markdown",
   "metadata": {},
   "source": [
    "Generally, the second approach is preferred, when possible. \n",
    "\n",
    "- It uses less lines of code.\n",
    "- It avoids needing to track and remember many variable names.\n",
    "- It is highly readable if you are familiar with Python.\n",
    "\n",
    "However, disadvantages of the second approach are:\n",
    "\n",
    "- It can be harder to follow the steps.\n",
    "- It's harder to debug.\n",
    "\n",
    "One approach is to write out chunks of code the first way when debugging, then condensing them into fewer lines once the debugging is complete."
   ]
  },
  {
   "cell_type": "markdown",
   "metadata": {},
   "source": [
    "## Naming Conventions\n",
    "\n",
    "\"The best programmer is the one who can come up with the best names\"\n",
    "\n",
    "* Good names replace comments and make code self-documenting.\n",
    "* variables, functions, files, etc. should consist of complete words. Try to avoid abbreviations.\n",
    "* Use this principle in your coding: frequent -> short, infrequent -> long."
   ]
  },
  {
   "cell_type": "code",
   "execution_count": null,
   "metadata": {},
   "outputs": [],
   "source": [
    "# less ideal\n",
    "a = 1\n",
    "a = 'a string'\n",
    "def a():\n",
    "    pass  # Do something\n",
    "\n",
    "# more ideal\n",
    "count = 1\n",
    "msg = 'a string'\n",
    "def func():\n",
    "    pass  # Do something"
   ]
  },
  {
   "cell_type": "markdown",
   "metadata": {},
   "source": [
    "Even without comments, good names give a good idea of what is going on in your code!"
   ]
  },
  {
   "cell_type": "markdown",
   "metadata": {},
   "source": [
    "Remember our good variable naming rules and guidelines! In addition, here are some more style guidelines:\n",
    "\n",
    "* joined_lower for functions, methods, attributes.\n",
    "* joined_lower or ALL_CAPS for constants.\n",
    "* StudlyCaps for classes.\n",
    "* camelCase only to conform to pre-existing conventions.\n",
    "\n",
    "Most often you will use the `joined_lower` format for your variables."
   ]
  },
  {
   "cell_type": "markdown",
   "metadata": {},
   "source": [
    "## Stand on the shoulders of giants!\n",
    "\n",
    "As data scientists and programmers, building complex operations and models from scratch is prohibitively complicated and time consuming. Instead, a key skill is being able to identify what packages and solutions already exist and adapt those to your code.\n",
    "\n",
    "Some great resources are:\n",
    "\n",
    "* Check Python's standard library.\n",
    "* Check the [Python Package Index](http://cheeseshop.python.org/pypi).\n",
    "* Search the web. Google is your friend.\n",
    "\n"
   ]
  },
  {
   "cell_type": "markdown",
   "metadata": {},
   "source": [
    "## Learn More\n",
    "\n",
    "* [PEP Styleguide](https://www.python.org/dev/peps/pep-0008/)\n",
    "* [Python track: Python idioms](http://www.cs.caltech.edu/courses/cs11/material/python/misc/python_idioms.html)\n",
    "* [The Hitchhiker’s Guide to Python](http://docs.python-guide.org/en/latest)\n",
    "* [Google Python Style Guide](https://google.github.io/styleguide/pyguide.html)"
   ]
  }
 ],
 "metadata": {
  "kernelspec": {
   "display_name": "Python 3 (ipykernel)",
   "language": "python",
   "name": "python3"
  },
  "language_info": {
   "codemirror_mode": {
    "name": "ipython",
    "version": 3
   },
   "file_extension": ".py",
   "mimetype": "text/x-python",
   "name": "python",
   "nbconvert_exporter": "python",
   "pygments_lexer": "ipython3",
   "version": "3.9.12"
  }
 },
 "nbformat": 4,
 "nbformat_minor": 4
}
