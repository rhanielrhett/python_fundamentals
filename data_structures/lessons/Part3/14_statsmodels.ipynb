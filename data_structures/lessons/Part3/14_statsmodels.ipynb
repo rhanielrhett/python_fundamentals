{
 "cells": [
  {
   "cell_type": "markdown",
   "metadata": {},
   "source": [
    "# Statistical Analyses with `statsmodels`\n",
    "\n",
    "**Learning Objectives**:\n",
    "- Introduce the `statsmodels` package for statistical analysis.\n",
    "- Calculate a linear regression.\n",
    "- Perform a simple t-test.\n",
    "\n",
    "****\n",
    "\n",
    "Okay so we have learned to import, subset, modify, and visualize our data set. But what if we want to perform regression or statistical tests on our data? In this notebook, we introduce `statsmodels`, a package that is useful for statistical analysis in Python. This allows for a lot of statistical models to be developed directly in Python without needing to go to other languages or software. In this section, we will introduce two basic statistical methods available through `statsmodels`.\n",
    "\n",
    "**Note:** `statsmodels` uses a lot of calculations and operations from `numpy`. This means, among other things, that it is designed to use with numerical data. If you want to use categorical variables in a model, you will often need to convert those variables from strings to numbers."
   ]
  },
  {
   "cell_type": "code",
   "execution_count": null,
   "metadata": {},
   "outputs": [],
   "source": [
    "# Install statsmodels if necessary (uncomment the line below)\n",
    "#!pip install statsmodels "
   ]
  },
  {
   "cell_type": "code",
   "execution_count": null,
   "metadata": {},
   "outputs": [],
   "source": [
    "import statsmodels.api as sm\n",
    "import pandas as pd\n",
    "import numpy as np"
   ]
  },
  {
   "cell_type": "markdown",
   "metadata": {},
   "source": [
    "Most statistical tests struggle to deal with null values, so here we will remove all null values in the data.\n",
    "\n",
    "**Question:** When might you not want to run `.dropna()` without any subset arguments?"
   ]
  },
  {
   "cell_type": "code",
   "execution_count": null,
   "metadata": {},
   "outputs": [],
   "source": [
    "# Load in data and drop null values\n",
    "df = pd.read_csv('penguins.csv').dropna()"
   ]
  },
  {
   "cell_type": "markdown",
   "metadata": {},
   "source": [
    "## Performing a t-test\n",
    "\n",
    "A t-test is a test of the significance of the difference between two distributions. In our data let's look at the difference between species of penguin. For example, for the Adelie and Chinstrap species, let's see if there's a significant difference in flipper length. \n",
    "\n",
    "We proceed as follows:\n",
    "\n",
    "1. Subset to the appropriate rows and column using `df.loc[]`.\n",
    "2. Run the `ttest_ind` function, which takes two arguments, one for each series. \n",
    "3. Interpret the output. "
   ]
  },
  {
   "cell_type": "code",
   "execution_count": null,
   "metadata": {},
   "outputs": [],
   "source": [
    "adelie = df.loc[df['species'] == 'Adelie', ['flipper_length_mm']]\n",
    "chinstrap = df.loc[df['species'] == 'Chinstrap', ['flipper_length_mm']]"
   ]
  },
  {
   "cell_type": "markdown",
   "metadata": {},
   "source": [
    "**Question:** What does each of the outputs correspond to? What is the type of the output?"
   ]
  },
  {
   "cell_type": "code",
   "execution_count": null,
   "metadata": {
    "scrolled": true
   },
   "outputs": [],
   "source": [
    "res = sm.stats.ttest_ind(adelie, chinstrap)\n",
    "res"
   ]
  },
  {
   "cell_type": "code",
   "execution_count": null,
   "metadata": {},
   "outputs": [],
   "source": [
    "print('t-score:', res[0])\n",
    "print('p-value:', res[1])\n",
    "print('Degrees of Freedom:', res[2])"
   ]
  },
  {
   "cell_type": "markdown",
   "metadata": {},
   "source": [
    "These and other statistical tests can be found in the [documentation](https://www.statsmodels.org/dev/api.html). "
   ]
  },
  {
   "cell_type": "markdown",
   "metadata": {},
   "source": [
    "## Performing Linear Regression\n",
    "\n",
    "Regression is another useful part of the `statsmodels` package and a common statistical test to apply. We will work through an example with Ordinary Least Squares (OLS) regression, using `sm.OLS()`.\n",
    "\n",
    "For the `penguins` data, let's predict body mass as a function of culmen length, culmen depth, and flipper length. (Maybe bigger penguins weigh more!)\n",
    "\n",
    "This regression function takes two inputs: \n",
    "- A matrix $X$ with the input variables (one or more columns). In this case, it will be an array containing culmen length, culmen depth, and flipper length. (All columns need to be *numeric*)\n",
    "- An array $y$ with the output variable (single column). In this case, it will be body mass. This needs to be *numeric*.\n",
    "\n",
    "In this case, we can make `X` and `y` by simply selecting the appropriate columns."
   ]
  },
  {
   "cell_type": "code",
   "execution_count": null,
   "metadata": {},
   "outputs": [],
   "source": [
    "# Set up X and y\n",
    "X = df[['culmen_length_mm', 'culmen_depth_mm', 'flipper_length_mm']]\n",
    "y = df['body_mass_g']"
   ]
  },
  {
   "cell_type": "markdown",
   "metadata": {},
   "source": [
    "The model is set up using `sm.OLS(y, X)` which tells which data to use in the model. The `.fit()` method generates the fitted model, which is then saved to `results`. \n",
    "\n",
    "**Question:** What happens when you print the `result` variable?"
   ]
  },
  {
   "cell_type": "code",
   "execution_count": null,
   "metadata": {},
   "outputs": [],
   "source": [
    "result = sm.OLS(y, X).fit()\n",
    "result"
   ]
  },
  {
   "cell_type": "markdown",
   "metadata": {},
   "source": [
    "`result` is actually an object containing the output of the model. This can then be used to make predictions, visualizations, etc. The`.summary()` method that gives a good overview of each coefficient and overall statistical properties of the model. Let's try printing the summary for this model.\n",
    "\n",
    "**Question:** Is this model good at predicting body mass? How many variables are significant? If you were to improve this model what would you add/remove/change?"
   ]
  },
  {
   "cell_type": "code",
   "execution_count": null,
   "metadata": {},
   "outputs": [],
   "source": [
    "print(result.summary())"
   ]
  },
  {
   "cell_type": "markdown",
   "metadata": {},
   "source": [
    "## Challenge 1: More `statsmodels`\n",
    "\n",
    "Let's practice with some more `statsmodels` functions. Let's modify the regression above to normalize each of the columns.\n",
    "\n",
    "1. For each column, subtract the mean and divide by the standard deviation (std) . \n",
    "2. Double check normalization - the mean of each column should be ~0 and the standard deviation ~1\n",
    "3. Fit and run a linear regression on the normalized data. \n",
    "4. Interpret the model. What does the model say now?\n",
    "\n",
    "**Bonus:** Implement another change to your model. (Add another feauture like island, remove a feature, modify a feature). Re-fit the model. What effect did your change have on the model?\n",
    "\n",
    "Make notes of what barriers you run into, and remember the general steps of coding!"
   ]
  },
  {
   "cell_type": "code",
   "execution_count": null,
   "metadata": {},
   "outputs": [],
   "source": [
    "# YOUR CODE HERE\n"
   ]
  },
  {
   "cell_type": "markdown",
   "metadata": {},
   "source": [
    "**Question:** What statistical tests do you use the most in your data? "
   ]
  }
 ],
 "metadata": {
  "kernelspec": {
   "display_name": "Python 3 (ipykernel)",
   "language": "python",
   "name": "python3"
  },
  "language_info": {
   "codemirror_mode": {
    "name": "ipython",
    "version": 3
   },
   "file_extension": ".py",
   "mimetype": "text/x-python",
   "name": "python",
   "nbconvert_exporter": "python",
   "pygments_lexer": "ipython3",
   "version": "3.9.12"
  }
 },
 "nbformat": 4,
 "nbformat_minor": 4
}
