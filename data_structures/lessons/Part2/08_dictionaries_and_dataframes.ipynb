{
 "cells": [
  {
   "cell_type": "markdown",
   "metadata": {},
   "source": [
    "# Python Data Structures: Dictionaries and Data Frames\n",
    "\n",
    "**Learning Objectives**\n",
    "* Introduce dictionaries, and data frames.\n",
    "* Practice interacting with and manipulating these data structures.\n",
    "\n",
    "Dictionaries and DataFrames are two other key types of data structure. We will cover each of these in the sections below.\n"
   ]
  },
  {
   "cell_type": "markdown",
   "metadata": {},
   "source": [
    "## Dictionaries: Key-Value Structures\n",
    "\n",
    "Dictionaries are organized on the principle of key-value pairs. The **keys** can be used to access the **values**. They're most useful when you have unordered data organized in pairs. This occurs, for example, in storing metadata (data describing other data).\n",
    "\n",
    "Keys can be ints, floats, or strings, and are unordered. Values, however, can be any data type.\n",
    "\n",
    "Dictionaries are specified in Python using curly braces, with colons separating keys and values. \n",
    "\n",
    "Let's take a look at an example dictionary:"
   ]
  },
  {
   "cell_type": "code",
   "execution_count": null,
   "metadata": {},
   "outputs": [],
   "source": [
    "example_dict = {\n",
    "    \"name\": \"Forough Farrokhzad\",\n",
    "    \"year of birth\": 1935,\n",
    "    \"year of death\": 1967,\n",
    "    \"place of birth\": \"Iran\",\n",
    "    \"language\": \"Persian\"}\n",
    "\n",
    "example_dict['year of birth']"
   ]
  },
  {
   "cell_type": "markdown",
   "metadata": {},
   "source": [
    "Like lists, dictionaries have their own methods. One of them is the `keys()` method. What is the type of the output of `.keys()`?"
   ]
  },
  {
   "cell_type": "code",
   "execution_count": null,
   "metadata": {},
   "outputs": [],
   "source": [
    "print(example_dict.keys())\n",
    "type(example_dict.keys())"
   ]
  },
  {
   "cell_type": "markdown",
   "metadata": {},
   "source": [
    "`dict_keys` is a type that we haven't encountered before, so it will be hard to work with this type directly. However, recall that we can use type conversion to change the type of a variable. We can **cast** (or change the type of) the dictionary keys to a list, which is a type that we are more familiar with:"
   ]
  },
  {
   "cell_type": "code",
   "execution_count": null,
   "metadata": {},
   "outputs": [],
   "source": [
    "list(example_dict.keys())"
   ]
  },
  {
   "cell_type": "markdown",
   "metadata": {},
   "source": [
    "## Challenge 1: Creating a Dictionary\n",
    "\n",
    "Create a dictionary `fruits` using the following lists as *values*. Choose an appropriate string for each of the *keys* of the dictionary. Print the keys in the dictionary."
   ]
  },
  {
   "cell_type": "code",
   "execution_count": null,
   "metadata": {},
   "outputs": [],
   "source": [
    "fruit = ['apple', 'orange', 'mango']\n",
    "length = [3.2, 2.1, 3.1]\n",
    "color = ['red', 'orange', 'yellow']\n",
    "\n",
    "\n",
    "\n",
    "# YOUR CODE HERE"
   ]
  },
  {
   "cell_type": "markdown",
   "metadata": {},
   "source": [
    "Dictionaries are useful for hierarchical storage of data (and can even be nested just like lists!). They are also often used to initialize data frames, a useful data structure for tabular data, and essential for data scientists."
   ]
  },
  {
   "cell_type": "markdown",
   "metadata": {},
   "source": [
    "## Data Frames\n",
    "\n",
    "A common data structure you've likely already encountered is tabular data. Think of an Excel sheet: each column corresponds to a different feature of each datapoint, while rows correspond to different samples.\n",
    "\n",
    "In scientific programming, tabular data is often called a \"data frame\". In Python, there a specialized library called `pandas` which contains an object `DataFrame` that implements this data structure.\n",
    "\n",
    "We're going to explore `pandas` more closely in Part 3, but let's try creating a `DataFrame` object right now. \n",
    "\n",
    "\n",
    "First, we need to create a dictionary:\n",
    "\n",
    "**Note:** You can also substitute in your answer for Challenge 1 below."
   ]
  },
  {
   "cell_type": "code",
   "execution_count": null,
   "metadata": {},
   "outputs": [],
   "source": [
    "fruit = ['apple', 'orange', 'mango', 'strawberry', 'salmonberry', 'thimbleberry']\n",
    "size = [3, 2, 3, 1, 1, 1]\n",
    "color = ['red', 'orange', 'orange', 'red', 'orange', 'red']\n",
    "\n",
    "fruits = {\n",
    "    'fruit': fruit,\n",
    "    'size': size,\n",
    "    'color': color}"
   ]
  },
  {
   "cell_type": "markdown",
   "metadata": {},
   "source": [
    "Next, we import the `pandas` **library** (We will cover libraries in more detail in Part 3) and pass in the dictionary to the `pd.DataFrame()` function, storing the result in a variable called `df`."
   ]
  },
  {
   "cell_type": "code",
   "execution_count": null,
   "metadata": {},
   "outputs": [],
   "source": [
    "import pandas as pd\n",
    "\n",
    "df = pd.DataFrame(fruits)\n",
    "df"
   ]
  },
  {
   "cell_type": "markdown",
   "metadata": {},
   "source": [
    "The keys became column names and the values became cells in the `DataFrame`. In addition, there is an **index** on the left that keeps track of the row.\n",
    "\n",
    "Objects can also have **attributes**, or variables associated with the data type. We can get the number of columns and rows with `df.shape`, an attribute of the dataframe. \n",
    "\n",
    "**Question:** How many rows and columns does this dataframe have? "
   ]
  },
  {
   "cell_type": "code",
   "execution_count": null,
   "metadata": {},
   "outputs": [],
   "source": [
    "df.shape"
   ]
  },
  {
   "cell_type": "markdown",
   "metadata": {},
   "source": [
    "## Challenge 2: Initializing a DataFrame\n",
    "\n",
    "The following code gives an error. Why does it have an error? What are some ways to fix this?"
   ]
  },
  {
   "cell_type": "code",
   "execution_count": null,
   "metadata": {},
   "outputs": [],
   "source": [
    "fruit = ['apple', 'orange']\n",
    "length = [3.2, 2.1, 3.1]\n",
    "color = ['red', 'orange', 'yellow']\n",
    "\n",
    "fruit_dict = {\n",
    "    'fruit': fruit,\n",
    "    'length': length,\n",
    "    'color': color}\n",
    "\n",
    "df_fruit = pd.DataFrame(fruit_dict)"
   ]
  },
  {
   "cell_type": "markdown",
   "metadata": {},
   "source": [
    "## Working with DataFrames\n",
    "\n",
    "Pandas has hundreds of useful ways for us to work with DataFrames. We will cover a couple of general topics here and in Part 3, but for more on pandas, consider the Python Data Wrangling workshop. \n",
    "\n",
    "\n",
    "We can choose a single column by selecting the name of that column. `pandas` calls this a `pd.Series` object. The act of obtaining a particular subset of a data frame is often referred to as **slicing**. This uses bracket notation to select part of the data.\n",
    "\n",
    "Check the type of the slice below:"
   ]
  },
  {
   "cell_type": "code",
   "execution_count": null,
   "metadata": {
    "scrolled": false
   },
   "outputs": [],
   "source": [
    "# Bracket notation to choose a column\n",
    "df['fruit']"
   ]
  },
  {
   "cell_type": "markdown",
   "metadata": {},
   "source": [
    "`DataFrame` objects also have methods, including those for [merging](https://pandas.pydata.org/docs/reference/api/pandas.DataFrame.merge.html?highlight=merge#pandas.DataFrame.merge), [aggregation](https://pandas.pydata.org/docs/reference/api/pandas.DataFrame.groupby.html), [nulls](https://pandas.pydata.org/docs/reference/api/pandas.DataFrame.groupby.html), and others. Many of these functions operate on a single column of the DataFrame. For example, we can identify the number of unique values in each column by using `.nunique()`, and what those unique values are by using `.unique()`:"
   ]
  },
  {
   "cell_type": "code",
   "execution_count": null,
   "metadata": {},
   "outputs": [],
   "source": [
    "#number of unique colors in the df\n",
    "print(df['color'].nunique())\n",
    "\n",
    "\n",
    "#unique colors in the df\n",
    "print(df['color'].unique())"
   ]
  },
  {
   "cell_type": "markdown",
   "metadata": {},
   "source": [
    "## Challenge 3: `value_counts()`\n",
    "\n",
    "There is another pandas function `.value_counts()` which can be used to help organize the information provided by `unique()`. Read the [documentation](https://pandas.pydata.org/docs/reference/api/pandas.Series.value_counts.html) and apply `value_counts()` to the `df` variable. How many 'red' and 'orange' fruits are in the DataFrame?"
   ]
  },
  {
   "cell_type": "code",
   "execution_count": null,
   "metadata": {},
   "outputs": [],
   "source": [
    "## YOUR CODE HERE."
   ]
  }
 ],
 "metadata": {
  "kernelspec": {
   "display_name": "Python 3 (ipykernel)",
   "language": "python",
   "name": "python3"
  },
  "language_info": {
   "codemirror_mode": {
    "name": "ipython",
    "version": 3
   },
   "file_extension": ".py",
   "mimetype": "text/x-python",
   "name": "python",
   "nbconvert_exporter": "python",
   "pygments_lexer": "ipython3",
   "version": "3.9.12"
  }
 },
 "nbformat": 4,
 "nbformat_minor": 4
}
