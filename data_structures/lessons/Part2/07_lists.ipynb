{
 "cells": [
  {
   "cell_type": "markdown",
   "metadata": {},
   "source": [
    "# Python Data Structures: Lists\n",
    "**Learning Objectives**\n",
    "* Introduce lists as an ordered set of data.\n",
    "* Practice interacting with and manipulating lists.\n",
    "\n",
    "\n",
    "Data structures are objects that organize and store data in a useful way. They're a bedrock of data analysis in programming. We'll cover one of the fundamental data structures in this lesson (lists) and two more (dictionaries and DataFrames) in the next lesson.\n"
   ]
  },
  {
   "cell_type": "markdown",
   "metadata": {},
   "source": [
    "## Lists: Ordered Data Structures\n",
    "\n",
    "Lists are a collection of **ordered** items. Lists have a length, and the items inside can be **indexed**, or accessed based on their positions.\n",
    "\n",
    "They're most useful when storing a collection of values when order is important. One nice thing about lists is that they can contain different types of data. For example, the entries of a list can be integers, floats, strings, and even other lists!\n",
    "\n",
    "We specify a list with square brackets: `[]` and commas separating each entry in the list."
   ]
  },
  {
   "cell_type": "code",
   "execution_count": null,
   "metadata": {},
   "outputs": [],
   "source": [
    "country_list = [\"Afghanistan\", \"Canada\", \"Thailand\", \"Denmark\", \"Japan\"]\n",
    "type(country_list)"
   ]
  },
  {
   "cell_type": "markdown",
   "metadata": {},
   "source": [
    "`len()` gives the number of items in a list. What is the output of the line below?"
   ]
  },
  {
   "cell_type": "code",
   "execution_count": null,
   "metadata": {},
   "outputs": [],
   "source": [
    "len(country_list)"
   ]
  },
  {
   "cell_type": "markdown",
   "metadata": {},
   "source": [
    "You can index a list using square brackets followng the list name, using the notation `[start:stop]`. **Note:** This uses square brackets rather than parentheses. Using a colon indicates that you want to access all entries between the two endpoints. If one side of the colon is empty, it indicates using one end of the list as the starting or ending points. \n",
    "\n",
    "**Question:** Below for some examples of indexing on `country_list`. For each entry predict what the output will be, then check your predictions.\n",
    "\n",
    "\n",
    "**Hint:** Python is *zero*-indexed, meaning the first entry has index zero, not one! In addition, the `stop` index indicates 'up to but not including'. So, in `list[start:stop]`, `list[stop]` is not included.\n",
    "\n",
    "**Bonus:** What is the type of each of the outputs below?"
   ]
  },
  {
   "cell_type": "code",
   "execution_count": null,
   "metadata": {},
   "outputs": [],
   "source": [
    "print(country_list[0])\n",
    "print(country_list[1:4])\n",
    "print(country_list[1:])\n",
    "print(country_list[:4])"
   ]
  },
  {
   "cell_type": "markdown",
   "metadata": {},
   "source": [
    "**Bonus:** You can also use negative numbers to indicate starting points relative to the last entry in the list:"
   ]
  },
  {
   "cell_type": "code",
   "execution_count": null,
   "metadata": {},
   "outputs": [],
   "source": [
    "print(country_list[-1])\n",
    "print(country_list[-4:-1])\n"
   ]
  },
  {
   "cell_type": "markdown",
   "metadata": {},
   "source": [
    "## Challenge 1: Slicing Lists\n",
    "\n",
    "Using the lists in the next cell:\n",
    "\n",
    "1. What does `thing[start:stop]` do? What is the output?\n",
    "2. Write three different ways to slice the string from `elephant` to the end."
   ]
  },
  {
   "cell_type": "code",
   "execution_count": null,
   "metadata": {},
   "outputs": [],
   "source": [
    "thing = [1, 3, 8, 'elephant', 'banana', 2]\n",
    "start = 2\n",
    "stop = 5"
   ]
  },
  {
   "cell_type": "markdown",
   "metadata": {},
   "source": [
    "### List Methods\n",
    "\n",
    "As we discussed in Part 1, objects can have methods associated with their data type that are accessed via dot notation (`object.method()`).\n",
    "\n",
    "Recall that methods are functions that operate specifically on a particular data type. Lists have their own methods which perform operations specific to lists. The most common method is the `append()` method, which adds an item to the end of a list. \n",
    "\n",
    "The code below adds a country to `country_list` using `append()`:"
   ]
  },
  {
   "cell_type": "code",
   "execution_count": null,
   "metadata": {},
   "outputs": [],
   "source": [
    "print(country_list)"
   ]
  },
  {
   "cell_type": "code",
   "execution_count": null,
   "metadata": {},
   "outputs": [],
   "source": [
    "country_list.append('USA')"
   ]
  },
  {
   "cell_type": "code",
   "execution_count": null,
   "metadata": {},
   "outputs": [],
   "source": [
    "print(country_list)"
   ]
  },
  {
   "cell_type": "markdown",
   "metadata": {},
   "source": [
    "Note that the `append()` method operates **in-place**: it modifies the object it is applied to. This is not always the case in Python - some methods return an object that must be stored in its own variable.\n",
    "\n",
    "There are many other useful list methods. Use the [documentation](https://docs.python.org/3/tutorial/datastructures.html#more-on-lists) to investigate available methods for dealing with lists."
   ]
  },
  {
   "cell_type": "markdown",
   "metadata": {},
   "source": [
    "## Challenge 2: Adding to Lists\n",
    "\n",
    "We've created a list called `thing` in the cell below.\n",
    "\n",
    "1. Append the following values to the list, individually: `'apple'`, `8`, and `9`. Print the ensuing list out.\n",
    "2. We've made another list called `thing2` consisting of the values `'apple'`, `8`, and `9`. Append `thing2` to `thing`. How does the output differ from the output from the previous part?\n",
    "3. Look at the [documentation](https://docs.python.org/3/tutorial/datastructures.html#more-on-lists) for the list method `.extend()`. Rewrite your answer to (2) to use extend. How does that compare to the outputs of the previous two parts?\n",
    "4. What is one situation where you would use `append` and one where you would use `extend`?\n",
    "\n",
    "**Hint**: *Iterable* in Python means an object with multiple values that can be iterated through (including lists, tuples, and even strings)."
   ]
  },
  {
   "cell_type": "code",
   "execution_count": null,
   "metadata": {},
   "outputs": [],
   "source": [
    "#1\n",
    "thing = [1, 3, 8, 'elephant', 'banana', 2]\n",
    "\n",
    "#....append(...)\n",
    "#2\n",
    "thing = [1, 3, 8, 'elephant', 'banana', 2]\n",
    "thing2 = ['apple',8,9]\n",
    "#....append(...)\n",
    "\n",
    "\n",
    "#3\n",
    "thing = [1, 3, 8, 'elephant', 'banana', 2]\n",
    "thing2 = ['apple',8,9]\n",
    "#....extend(...)\n"
   ]
  },
  {
   "cell_type": "markdown",
   "metadata": {},
   "source": [
    "## Other Data Structures\n",
    "\n",
    "There are many more data structures in Python that you may run across. We will cover two more in the next section: dictionaries and DataFrames. There are several more that you may run across but we will not cover in this workshop. They include:\n",
    "\n",
    "* **tuple**: Similar to a list, but values can't be changed onced it is made. Tuples are **immutable**.\n",
    "* **set**: An unordered list, which can only contain **unique** values.\n",
    "* **range**: A sequence of numbers, often in an arithmetic sequence. \n",
    "* And many [more](https://docs.python.org/3/library/stdtypes.html#immutable-sequence-types)!\n",
    "\n",
    "\n",
    "We often interact with these more often as the output of functions rather than writing them ourselves, but it's good to be aware of them. "
   ]
  }
 ],
 "metadata": {
  "kernelspec": {
   "display_name": "Python 3 (ipykernel)",
   "language": "python",
   "name": "python3"
  },
  "language_info": {
   "codemirror_mode": {
    "name": "ipython",
    "version": 3
   },
   "file_extension": ".py",
   "mimetype": "text/x-python",
   "name": "python",
   "nbconvert_exporter": "python",
   "pygments_lexer": "ipython3",
   "version": "3.9.12"
  }
 },
 "nbformat": 4,
 "nbformat_minor": 4
}
