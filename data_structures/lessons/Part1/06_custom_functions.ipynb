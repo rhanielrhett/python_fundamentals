{
 "cells": [
  {
   "cell_type": "markdown",
   "metadata": {},
   "source": [
    "# Writing Custom Functions\n",
    "\n",
    "**Learning Objectives**:\n",
    "\n",
    "- Learn to write custom functions.\n",
    "- Use `return` to provide function outputs.\n",
    "- Learn to *modularize* code by creating functions.\n",
    "* * * * *"
   ]
  },
  {
   "cell_type": "markdown",
   "metadata": {},
   "source": [
    "We have already used **functions** like `len()` , `sum()` in our code. These are essentially shortcuts that make it so that we don't need to write many lines of code to accomplish certain tasks. One of the most useful programming structures in Python is to write our own functions with a custom functionality that is specific to our goals."
   ]
  },
  {
   "cell_type": "markdown",
   "metadata": {},
   "source": [
    "Let's take a look at a quick example, creating the a function that will format a date into the M/D/YYYY format:"
   ]
  },
  {
   "cell_type": "code",
   "execution_count": null,
   "metadata": {},
   "outputs": [],
   "source": [
    "def format_date(day, month, year):\n",
    "    formatted = str(month) + \"/\" + str(day) + \"/\" + str(year)\n",
    "    return(formatted)"
   ]
  },
  {
   "cell_type": "code",
   "execution_count": null,
   "metadata": {},
   "outputs": [],
   "source": [
    "print(\"The formatted date is:\", format_date(1,2,2022))\n"
   ]
  },
  {
   "cell_type": "markdown",
   "metadata": {},
   "source": [
    "Functions save us a lot of time, but they aren't black boxes. Rather, we can think of functions as basic building blocks that we expect to use over and over again.\n",
    "\n",
    "Using existing functions from packages, or built-in functions, is generally preferred because it saves time (and effort). For example, we wouldn't write a custom `sum()` function when one already exists. However, when a function doesn't already exist that performs the desired operation, we can write our own function.\n",
    "\n",
    "Specifically, a function does three things:\n",
    "\n",
    "1. It names pieces of code the way variables name strings and numbers.\n",
    "2. It accepts arguments, or inputs on which you'll operate. Arguments are also called parameters.\n",
    "3. It returns values that can be referred to in further operations.\n",
    "\n",
    "The details are pretty simple, but this is one of those ideas where it's good to get lots of practice!"
   ]
  },
  {
   "cell_type": "markdown",
   "metadata": {},
   "source": [
    "## Basic Function Syntax\n",
    "\n",
    "The structure of a function is similar to what we've seen before: keyword, name, colon, and body.\n",
    "\n",
    "*   Functions begin with the keyword `def`.\n",
    "*   This keyword is followed by the function *name*.\n",
    "    *   The name must obey the same rules as variable names. (It is a variable!)\n",
    "*   The **arguments** or **parameters** are defined in parentheses as variable names.\n",
    "    *   Use empty parentheses if the function doesn't take any inputs.\n",
    "*   A colon indicates the end of the function *signature*.\n",
    "*   An indented block of code denotes the start of the *body*.\n",
    "*   The final line should be a `return` statement with the value(s) to be returned from the function\n",
    "\n",
    "**Note:** Arguments and variables created within the function only exist within the function and cannot be referred to unless returned by the function using the `return` statement.\n",
    "\n",
    "Let's take a look at a simple function:"
   ]
  },
  {
   "cell_type": "code",
   "execution_count": null,
   "metadata": {},
   "outputs": [],
   "source": [
    "def feet_to_meters(feet):\n",
    "    return(feet * .304)"
   ]
  },
  {
   "cell_type": "markdown",
   "metadata": {},
   "source": [
    "Notice how there is output from running the block of code above. This is because defining a function does not run it. You can think of it as assigning a value to a variable. The function needs to be **called**, or run, with appropriate arguments to execute the code it contains. \n",
    "\n",
    "Let's run this function. We can save the output to a variable and print the result."
   ]
  },
  {
   "cell_type": "code",
   "execution_count": null,
   "metadata": {},
   "outputs": [],
   "source": [
    "meters = feet_to_meters(100)\n",
    "print(meters)"
   ]
  },
  {
   "cell_type": "markdown",
   "metadata": {},
   "source": [
    "## Challenge 1: My First Function\n",
    "\n",
    "Write a function that converts Celsius temperatures to Fahrenheit. The formula for this conversion is:\n",
    "\n",
    "$$F = 1.8 * C + 32$$"
   ]
  },
  {
   "cell_type": "code",
   "execution_count": null,
   "metadata": {},
   "outputs": [],
   "source": [
    "def ___:\n",
    "    ...\n",
    "    return(____)"
   ]
  },
  {
   "cell_type": "markdown",
   "metadata": {},
   "source": [
    "## Principles of Writing Your Own Functions\n",
    "\n",
    "Function writing is one of the most important skills you can develop as a programmer. However, there is also a lot that can go wrong in the function writing process, leading to time-consuming corrections. Here are some guidelines that can help minimize errors and make the process less painful:\n",
    "\n",
    "1. **Plan**\n",
    "    1. What is the overall goal of the function? Is there a function that exists already that does the same thing? \n",
    "    2. What is going to be the output of the function? (what data type, how many items)?\n",
    "    3. What arguments will you need? What pieces of the function do you need to control?\n",
    "    4. What are the general steps of the program? This can be written in bullet points or \"pseudocode\".\n",
    "2. **Write**\n",
    "    1. Start by writing the code without the function wrapper.\n",
    "    2. Start small. Write small self-contained blocks of code and put the pieces together. You can also consider sub-functions if it is a particularly complex issue.\n",
    "    3. Test each part of the function as it is added. Track the input of the function and how it changes at each step. \n",
    "    4. Wrap the code in the function syntax.\n",
    "3. **Test**\n",
    "    1. Take the function and test *several* cases.\n",
    "    2. Before running test cases, form an expectation of the result. \n",
    "    3. Test the function. Pay attention to both errors and strange results. Make adjustments to account for new cases.\n",
    "    4. Integrate the function with the rest of the code. Are the input arguments the right type? Does the output flow into the rest of the code?"
   ]
  },
  {
   "cell_type": "markdown",
   "metadata": {},
   "source": [
    "Let's go through an example of the function development process.\n",
    "\n",
    "Let's say we have a state name (e.g. California) and we want to generate the postal abbreviation for that state (California --> CA).\n",
    "\n",
    "1. **Plan**\n",
    "    1. Generate two-letter abbreviation for a state\n",
    "    2. Input: string of state name\n",
    "    3. Output: first two letters of string \n",
    "    4. The pseudocode might look like this: \n",
    "        ``` \n",
    "        function\n",
    "            select first two characters in the string\n",
    "            make upper case\n",
    "            return\n",
    "        ```\n",
    "\n",
    "2. **Write**\n",
    "\n",
    "Let's start with our example string `California` and select the first two characters in the string using string indexing:"
   ]
  },
  {
   "cell_type": "code",
   "execution_count": null,
   "metadata": {},
   "outputs": [],
   "source": [
    "ex_state = 'California'\n",
    "#select first two\n",
    "first_two = ex_state[:2]"
   ]
  },
  {
   "cell_type": "markdown",
   "metadata": {},
   "source": [
    "Now we need to make the letters uppercase (And check the output). "
   ]
  },
  {
   "cell_type": "code",
   "execution_count": null,
   "metadata": {},
   "outputs": [],
   "source": [
    "first_two.upper()"
   ]
  },
  {
   "cell_type": "markdown",
   "metadata": {},
   "source": [
    "Now that we've done the individual steps, we can put it together in the function syntax."
   ]
  },
  {
   "cell_type": "code",
   "execution_count": null,
   "metadata": {},
   "outputs": [],
   "source": [
    "def get_state_abbreviation(state):\n",
    "    first_two = state[:2]\n",
    "    abbr = first_two.upper()"
   ]
  },
  {
   "cell_type": "markdown",
   "metadata": {},
   "source": [
    "Now let's test this out:"
   ]
  },
  {
   "cell_type": "code",
   "execution_count": null,
   "metadata": {},
   "outputs": [],
   "source": [
    "print(get_state_abbreviation('California'))"
   ]
  },
  {
   "cell_type": "markdown",
   "metadata": {},
   "source": [
    "When we print the result, we get `None`. What step needs to be added? Let's add a statement to our definition above so that we can print the result. \n",
    "\n",
    "Now that we've got a working example let's test it on more examples:"
   ]
  },
  {
   "cell_type": "code",
   "execution_count": null,
   "metadata": {},
   "outputs": [],
   "source": [
    "get_state_abbreviation(\"Washington\")\n",
    "get_state_abbreviation(\"california\")"
   ]
  },
  {
   "cell_type": "markdown",
   "metadata": {},
   "source": [
    "## Challenge 2: Modifying a function \n",
    "\n",
    "Now let's check our `get_state_abbreviation()` function for `Michigan` and `Minnesota`. What happens in the case where the states have the same first two letters? \n",
    "\n",
    "Write down a revised plan for the function to account for cases like the above, following the steps outlined in the previous section. Don't worry about writing the code for the function at this point. What additional structures or information might you need in order to accommodate cases like Michigan/Minnesota or Maine/Maryland?\n"
   ]
  },
  {
   "cell_type": "code",
   "execution_count": null,
   "metadata": {},
   "outputs": [],
   "source": [
    "#original abbreviating function\n",
    "def get_state_abbreviation(state):\n",
    "    first_two = state[:2]\n",
    "    abbr = first_two.upper()\n",
    "    return(abbr)"
   ]
  },
  {
   "cell_type": "code",
   "execution_count": null,
   "metadata": {},
   "outputs": [],
   "source": [
    "# YOUR CODE HERE\n"
   ]
  },
  {
   "cell_type": "markdown",
   "metadata": {},
   "source": [
    "## Bonus: Advanced Arguments \n",
    "\n"
   ]
  },
  {
   "cell_type": "markdown",
   "metadata": {},
   "source": [
    "## Function Arguments\n",
    "\n",
    "Function **arguments** or **parameters** are specified when defining a function in the parentheses, separated by commas. \n",
    "\n",
    "These arguments become variables when the function is executed. The variables are assigned the values passed to the function. We do operations based on the arguments, and return the result.\n",
    "\n",
    "Let's look at an example function in which we're performing division.\n",
    "\n",
    "**Question:** What is being divided by what in the following lines of code?"
   ]
  },
  {
   "cell_type": "code",
   "execution_count": null,
   "metadata": {},
   "outputs": [],
   "source": [
    "def divide(x, y):\n",
    "    return(x / y)\n",
    "\n",
    "print(divide(4, 6))\n",
    "print(divide(6, 4)) "
   ]
  },
  {
   "cell_type": "markdown",
   "metadata": {},
   "source": [
    "The order of the arguments matter; we got different results because each argument had a different role (numerator and denominator).\n",
    "\n",
    "You can also pass in **keyword arguments**, where each argument is assigned using a name."
   ]
  },
  {
   "cell_type": "code",
   "execution_count": null,
   "metadata": {},
   "outputs": [],
   "source": [
    "print(divide(x=4, y=6))\n",
    "print(divide(y=6, x=4))"
   ]
  },
  {
   "cell_type": "markdown",
   "metadata": {},
   "source": [
    "Are the arguments named appropriately? What does x and y stand for? What could be more clear?\n",
    "\n",
    "Generally, it's good practice to both use well-named arguments and use them in the same order. This is easier to read."
   ]
  },
  {
   "cell_type": "markdown",
   "metadata": {},
   "source": [
    "## Default Arguments\n",
    "\n",
    "We can also specify **default arguments** in functions. When we provide a default argument, the function will use that value when the user does not pass in a value. Default arguments are specified in the function signature.\n",
    "\n",
    "An expanded version of the `divide()` function is provided below. What is the additional parameter doing? What will be the output of `divide(24,5)`?"
   ]
  },
  {
   "cell_type": "code",
   "execution_count": null,
   "metadata": {},
   "outputs": [],
   "source": [
    "# y has default value equal to 10\n",
    "def divide(x, y, z = True):\n",
    "    if z:\n",
    "        return(round(x / y))\n",
    "    else:\n",
    "        return(x/y)"
   ]
  },
  {
   "cell_type": "markdown",
   "metadata": {},
   "source": [
    "We can use default arguments when there are arguments that we will only want to change some of the time. It's good practice to make the default of the argument the item that you will want to use most often.\n",
    "\n",
    "**Question:** What do you think the best default for the `z` argument above would be? What might be a better name for that argument?"
   ]
  },
  {
   "cell_type": "markdown",
   "metadata": {},
   "source": [
    "## Challenge 3: More Errors!\n",
    "\n",
    "Why do the following lines return errors?\n",
    "\n",
    "**Hint**: Think about what happens inside the function, and how the arguments fit into the function."
   ]
  },
  {
   "cell_type": "code",
   "execution_count": null,
   "metadata": {},
   "outputs": [],
   "source": [
    "divide(z=False,10, 4)"
   ]
  },
  {
   "cell_type": "code",
   "execution_count": null,
   "metadata": {},
   "outputs": [],
   "source": [
    "divide(4, y='10')"
   ]
  },
  {
   "cell_type": "code",
   "execution_count": null,
   "metadata": {},
   "outputs": [],
   "source": [
    "divide(4)"
   ]
  },
  {
   "cell_type": "markdown",
   "metadata": {},
   "source": [
    "There's a lot of different permutations of arguments in functions, so keeping them organized will be helpful to both yourself and other people interacting with your code."
   ]
  }
 ],
 "metadata": {
  "kernelspec": {
   "display_name": "Python 3 (ipykernel)",
   "language": "python",
   "name": "python3"
  },
  "language_info": {
   "codemirror_mode": {
    "name": "ipython",
    "version": 3
   },
   "file_extension": ".py",
   "mimetype": "text/x-python",
   "name": "python",
   "nbconvert_exporter": "python",
   "pygments_lexer": "ipython3",
   "version": "3.9.12"
  }
 },
 "nbformat": 4,
 "nbformat_minor": 4
}
