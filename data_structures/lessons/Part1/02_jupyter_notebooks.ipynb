{
 "cells": [
  {
   "cell_type": "markdown",
   "metadata": {},
   "source": [
    "# Jupyter Notebooks\n",
    "\n",
    "\n",
    "**Learning Objectives**:\n",
    "- Create, open, and exit notebooks.\n",
    "- Edit and run Python cells in a notebook.\n",
    "- Learn key Python formatting principles.\n",
    "* * * * *"
   ]
  },
  {
   "cell_type": "markdown",
   "metadata": {},
   "source": [
    "## Navigating Jupyter Notebooks\n",
    "\n",
    "In Jupyter Notebooks, code is divided into cells which can each be run separately. This is the main distinction between Jupyter Notebook `.ipynb` format and Python script `.py` format. Running a cell is done with a key combination: `Shift+Enter`. `Shift+Enter` will run the code in the selecte cell and then automatically move to the following cell.\n",
    "\n",
    "Try to run the following code using `Shift+Enter` now. \n",
    "\n",
    "**Question:** What was the output of the code?"
   ]
  },
  {
   "cell_type": "code",
   "execution_count": null,
   "metadata": {},
   "outputs": [],
   "source": [
    "print(\"Hello World!\")"
   ]
  },
  {
   "cell_type": "markdown",
   "metadata": {},
   "source": [
    "**Note:** If you hit `Enter` only, Jupyter Notebook gives you another line in the current cell.\n",
    "\n",
    "This allows you to compose multi-line commands and submit them to Python all at once.\n",
    "\n",
    "**Question:** What does the following cell do? What is the output?"
   ]
  },
  {
   "cell_type": "code",
   "execution_count": null,
   "metadata": {},
   "outputs": [],
   "source": [
    "a = 1 + 2\n",
    "print(a)"
   ]
  },
  {
   "cell_type": "markdown",
   "metadata": {},
   "source": [
    "`Control/Command+Enter` executes the cell and does not move to the next cell.\n",
    "\n",
    "You can enter the same line over and over again into the interpreter."
   ]
  },
  {
   "cell_type": "markdown",
   "metadata": {},
   "source": [
    "**Question**: Try using `Control+Enter` to run this cell three times. What is the output? Run the cell one more time. Is the output the same?"
   ]
  },
  {
   "cell_type": "code",
   "execution_count": null,
   "metadata": {},
   "outputs": [],
   "source": [
    "a = a + 1\n",
    "print(a)"
   ]
  },
  {
   "cell_type": "markdown",
   "metadata": {},
   "source": [
    "If you want to create new empty cells, you can use Insert ==> Insert Cell Below or use the Insert Cell Below button at the top of the notebook. Try entering a new cell below this one."
   ]
  },
  {
   "cell_type": "markdown",
   "metadata": {},
   "source": [
    "## Markdown\n",
    "\n",
    "Jupyter notebooks allow you combine text and code using a system called markdown. In fact, this very cell is written in markdown! We use this formatting language to narrate the workshop and provide context. (Imagine reading this notebook with no markdown!) Markdown is also used for documentation of code in Python notebooks more generally.\n",
    "\n",
    "Markdown has its own syntax, but it's fairly straighforward. Here's a [cheatsheet](https://github.com/adam-p/markdown-here/wiki/Markdown-Cheatsheet) that can help. You can also double-click on any of the markdown cells to see how they are made.\n",
    "\n",
    "Double click the cell below to see the markdown code rendering the output. Then do `Shift+Enter` to go back to the formatted text."
   ]
  },
  {
   "cell_type": "markdown",
   "metadata": {},
   "source": [
    "## Clearing Jupyter\n",
    "\n",
    "Jupyter remembers line of code it executed, **even if it's not currently displayed in the notebook**. This means that deleting a line of code does not delete it from the notebook's memory if it has already been run. Instead, to clear everything from Jupyter use Kernel -> Restart in the menu. The kernel is basically the program actually running the code, so if you reset the kernel, it's as if you just opened up the notebook for the first time. All of the outputs are forgotten, and the variables are reset.\n",
    "\n",
    "Let's see how this actually works. First, run the cell below. What is the output?"
   ]
  },
  {
   "cell_type": "code",
   "execution_count": null,
   "metadata": {},
   "outputs": [],
   "source": [
    "mystring = \"And three shall be the count.\" \n",
    "\n",
    "print(mystring)"
   ]
  },
  {
   "cell_type": "markdown",
   "metadata": {},
   "source": [
    "Now use Kernel -> Restart in the menu! You can also press the \"Reset\" button in the icon bar. Then run the code below. What happens?"
   ]
  },
  {
   "cell_type": "code",
   "execution_count": null,
   "metadata": {},
   "outputs": [],
   "source": [
    "print(mystring)"
   ]
  },
  {
   "cell_type": "markdown",
   "metadata": {},
   "source": [
    "Note that the error message contains a recap of the input that caused the error (with an arrow, no less!). It is telling us that `mystring` is not defined, since we just reset the kernel."
   ]
  },
  {
   "cell_type": "markdown",
   "metadata": {},
   "source": [
    "## Some Jupyter Tips\n",
    "\n",
    "### Tab Completion\n",
    "\n",
    "Jupyter notebooks also allow for tab completion, just like many command line interpreters and text editors. If you begin typing the name of something (e.g., a variable, a file in the current directory, etc.) that already exists, you can simply hit **Tab** and Jupyter will autocomplete it for you. If there is more than one possibility, it will show them to you and you can choose from there. For example:"
   ]
  },
  {
   "cell_type": "code",
   "execution_count": null,
   "metadata": {},
   "outputs": [],
   "source": [
    "test_me = 1\n",
    "test_me_2 = 2"
   ]
  },
  {
   "cell_type": "markdown",
   "metadata": {},
   "source": [
    "Now try typing `te` and see what happens when you hit `TAB`."
   ]
  },
  {
   "cell_type": "code",
   "execution_count": null,
   "metadata": {},
   "outputs": [],
   "source": []
  },
  {
   "cell_type": "markdown",
   "metadata": {},
   "source": [
    "### Commenting\n",
    "\n",
    "We will discuss how and why to comment code later in this series, but we will introduce it now because it's useful when you temporarily don't want to run a section of code.\n",
    "\n",
    "Simply place a pound sign `#` at the beginning of the line, and that line won't run. Any uncommented lines will be treated as code.\n",
    "\n",
    "Try running the cell below, then comment out the last two lines and run it again. What changes?\n"
   ]
  },
  {
   "cell_type": "code",
   "execution_count": null,
   "metadata": {},
   "outputs": [],
   "source": [
    "good_thing = 1+1\n",
    "\n",
    "This line should be commented\n",
    "bad_thing_1 = 'a' * 'b'"
   ]
  },
  {
   "cell_type": "markdown",
   "metadata": {},
   "source": [
    "### Indenting\n",
    "\n",
    "Consistent indentation is essential in Python. Python pays close attention to blank spaces, and uses this to understand how you're structuring code. So, you're only supposed to add spaces or indents in places where Python expects you to - otherwise, you'll run into an error.\n",
    "\n",
    "To move multiple lines of code at once, you can select them and then hit `Control + ]` to indent them (move to the right), or `Control + [` to dedent them to the left.\n",
    "\n",
    "**Note:** For Macs, use `Command` in place of `Control`.\n",
    "\n",
    "Read the error message down below. What is the error type? How can we fix it?"
   ]
  },
  {
   "cell_type": "code",
   "execution_count": null,
   "metadata": {},
   "outputs": [],
   "source": [
    "move_me = 1\n",
    "    move_me_too = 'abc'"
   ]
  },
  {
   "cell_type": "markdown",
   "metadata": {},
   "source": [
    "## Exiting Jupyter\n",
    "\n",
    "When you close your Jupyter notebook window, all of your values will be lost. But you can save your code for a later time.\n",
    "\n",
    "First go to File -> Close and Shutdown Notebook in order to shutdown the notebook you are using and close its window. Once all notebooks are shut down, you can shut down the entire Jupyter server by closing Anaconda navigator. You may get a warning dialog box alerting you that Jupyter Notebook is still running. Just click **Quit** to shut everything down."
   ]
  }
 ],
 "metadata": {
  "kernelspec": {
   "display_name": "Python 3 (ipykernel)",
   "language": "python",
   "name": "python3"
  },
  "language_info": {
   "codemirror_mode": {
    "name": "ipython",
    "version": 3
   },
   "file_extension": ".py",
   "mimetype": "text/x-python",
   "name": "python",
   "nbconvert_exporter": "python",
   "pygments_lexer": "ipython3",
   "version": "3.9.12"
  },
  "toc": {
   "base_numbering": 1,
   "nav_menu": {},
   "number_sections": false,
   "sideBar": true,
   "skip_h1_title": false,
   "title_cell": "Table of Contents",
   "title_sidebar": "Contents",
   "toc_cell": false,
   "toc_position": {},
   "toc_section_display": true,
   "toc_window_display": true
  },
  "varInspector": {
   "cols": {
    "lenName": 16,
    "lenType": 16,
    "lenVar": 40
   },
   "kernels_config": {
    "python": {
     "delete_cmd_postfix": "",
     "delete_cmd_prefix": "del ",
     "library": "var_list.py",
     "varRefreshCmd": "print(var_dic_list())"
    },
    "r": {
     "delete_cmd_postfix": ") ",
     "delete_cmd_prefix": "rm(",
     "library": "var_list.r",
     "varRefreshCmd": "cat(var_dic_list()) "
    }
   },
   "types_to_exclude": [
    "module",
    "function",
    "builtin_function_or_method",
    "instance",
    "_Feature"
   ],
   "window_display": false
  }
 },
 "nbformat": 4,
 "nbformat_minor": 4
}
