{
 "cells": [
  {
   "cell_type": "markdown",
   "metadata": {},
   "source": [
    "# Introduction to Functions\n",
    "\n",
    "**Objectives**\n",
    "- Define functions and arguments.\n",
    "- Call Python functions.\n",
    "- Correctly nest calls to built-in functions.\n",
    "- Use help to display [documentation](https://github.com/dlab-berkeley/Python-Fundamentals/blob/main/glossary.md) for built-in functions.\n",
    "\n",
    "*****"
   ]
  },
  {
   "cell_type": "markdown",
   "metadata": {},
   "source": [
    "## Functions\n",
    "\n",
    "**Functions** are a core part of programming that allows us to run complex operations over and over without needing to write the code over and over again. **Arguments**, or values passed to a function, allow for us to use functions in more general ways.\n",
    "\n",
    "For example, a (made-up) function `multiply_by_five(2)` may take a single argument 2 and multiply it by five. An alternative function `multiply(2, 5)` may have two arguments, but be more generalizable to other multiplication tasks.\n"
   ]
  },
  {
   "cell_type": "markdown",
   "metadata": {},
   "source": [
    "A function without the proper number of arguments will give an error, which will give some information about what arguments you need for the function to be successful.\n",
    "\n",
    "**Question:** Look at the error below. From the error message, how many arguments does the function take? What is another way we can identify the number of arguments for a function? (**Bonus:** What does `len()` do?)"
   ]
  },
  {
   "cell_type": "code",
   "execution_count": null,
   "metadata": {},
   "outputs": [],
   "source": [
    "len()"
   ]
  },
  {
   "cell_type": "markdown",
   "metadata": {},
   "source": [
    "Below, we use a function name without parentheses. What does the output say? "
   ]
  },
  {
   "cell_type": "code",
   "execution_count": null,
   "metadata": {},
   "outputs": [],
   "source": [
    "round"
   ]
  },
  {
   "cell_type": "markdown",
   "metadata": {},
   "source": [
    "This is referring to the stored function in memory. In order for the function to actually run, it must be called with `()`."
   ]
  },
  {
   "cell_type": "markdown",
   "metadata": {},
   "source": [
    "## Nesting Functions\n",
    "\n",
    "Functions can be nested by placing them inside of each other. In this case, the inner function is evaluated first, followed by outer function(s). (**Bonus**: Where have we seen multiple functions put together in a single line before?)"
   ]
  },
  {
   "cell_type": "code",
   "execution_count": null,
   "metadata": {},
   "outputs": [],
   "source": [
    "print(round(3.14))"
   ]
  },
  {
   "cell_type": "markdown",
   "metadata": {},
   "source": [
    "This requires that the output of the inner function be appropriate input for the outer function. The following code will have an error:"
   ]
  },
  {
   "cell_type": "code",
   "execution_count": null,
   "metadata": {},
   "outputs": [],
   "source": [
    "len(round(3.14))"
   ]
  },
  {
   "cell_type": "markdown",
   "metadata": {},
   "source": [
    "## Challenge 1: Errors in Nested Functions\n",
    "\n",
    "The following code gives an error. What type of error is it? How can we fix it?\n",
    "\n",
    "**Hint:** `max()` takes two integers or floats as input and returns the maximum value as output.\n",
    "\n",
    "\n",
    "**Bonus:** What is the code trying to do? What do you predict the output to be?"
   ]
  },
  {
   "cell_type": "code",
   "execution_count": null,
   "metadata": {},
   "outputs": [],
   "source": [
    "print(max(len('hi', len('hello'))"
   ]
  },
  {
   "cell_type": "markdown",
   "metadata": {},
   "source": [
    "## Default Arguments\n",
    "\n",
    "Some functions do not require you to enter a value for each argument. In these cases, it will use a **default argument** specified in the function.\n",
    "\n",
    "*   For example, `round()` will round a number. It accepts two arguments: the number, and the number of decimal places to round off to.\n",
    "*   By default, it rounds to a whole number.\n",
    "\n",
    "**Question:** Where do you think we look to find what the default arguments are?"
   ]
  },
  {
   "cell_type": "code",
   "execution_count": null,
   "metadata": {},
   "outputs": [],
   "source": [
    "round(3.712)"
   ]
  },
  {
   "cell_type": "markdown",
   "metadata": {},
   "source": [
    "We can specify the number of decimal places we want:"
   ]
  },
  {
   "cell_type": "code",
   "execution_count": null,
   "metadata": {},
   "outputs": [],
   "source": [
    "round(3.712, 1)"
   ]
  },
  {
   "cell_type": "markdown",
   "metadata": {},
   "source": [
    "The order of arguments also matters. There's some nuance to this, but the simplest way to start is to follow the order of arguments in the documentation. "
   ]
  },
  {
   "cell_type": "code",
   "execution_count": null,
   "metadata": {},
   "outputs": [],
   "source": [
    "?round"
   ]
  },
  {
   "cell_type": "markdown",
   "metadata": {},
   "source": [
    "Reversing the order of the arguments in `round()` results in an error."
   ]
  },
  {
   "cell_type": "code",
   "execution_count": null,
   "metadata": {},
   "outputs": [],
   "source": [
    "#this works\n",
    "round(3.000, 2)"
   ]
  },
  {
   "cell_type": "code",
   "execution_count": null,
   "metadata": {},
   "outputs": [],
   "source": [
    "#this doesn't\n",
    "round(2, 3.000)"
   ]
  },
  {
   "cell_type": "markdown",
   "metadata": {},
   "source": [
    "**Note:** If the arguments are the wrong type you will get a `TypeError`, but if the arguments are the right type in the wrong order, you might get nonsensical or otherwise incorrect results."
   ]
  },
  {
   "cell_type": "markdown",
   "metadata": {},
   "source": [
    "## Use the Built-in Function `help` to Get Help for a Function.\n",
    "\n",
    "Every built-in function has online documentation. Online resources such as the Python [documentation](https://docs.python.org/3/library/functions.html#divmod) can also be useful tools."
   ]
  },
  {
   "cell_type": "code",
   "execution_count": null,
   "metadata": {},
   "outputs": [],
   "source": [
    "help(round)"
   ]
  },
  {
   "cell_type": "markdown",
   "metadata": {},
   "source": [
    "## Every Function Returns a Value\n",
    "\n",
    "*   Every [function call](https://github.com/dlab-berkeley/Python-Fundamentals/blob/main/glossary.md) produces some result.\n",
    "*   If the function doesn't have a useful result to return,\n",
    "    it usually returns the special value `None`.\n",
    "* Unless the goal of the function is to print results, you usually want to save the output so you can refer to it later"
   ]
  },
  {
   "cell_type": "code",
   "execution_count": null,
   "metadata": {},
   "outputs": [],
   "source": [
    "output = divmod(16, 5)\n",
    "print('The output of divmod(16, 5) is', output)"
   ]
  },
  {
   "cell_type": "markdown",
   "metadata": {},
   "source": [
    "## Functions, Objects, and Methods\n",
    "  \n",
    "We've already covered most of these topics, but let's take a look at their definitions below:\n",
    "\n",
    "* A **function** is a block of code that can be reused. It can be passed data to operate on (ie. the arguments) and can optionally return data (the return value).\n",
    "* An **object** is a collection of conceptually related variables and functions using those variables. Every [object](https://github.com/dlab-berkeley/Python-Fundamentals/blob/main/glossary.md) is an instance of a `class`, which is like a blueprint for an object. \n",
    "* A **method** is a function which is tied to a particular object. Each of an object's methods typically implements one of the things it can do, or one of the questions it can answer. It is called using the dot notation: e.g. `object.method()`.\n",
    "\n",
    "With these definitions in mind, note the following:\n",
    "\n",
    "- In Python, everything is an object.\n",
    "- In Python, everything that happens is a function call.\n",
    "  \n",
    "Read more about objects, classes and methods [here](https://docs.python.org/3/tutorial/classes.html).\n",
    "\n",
    "Check out our Python glossary [here](https://github.com/dlab-berkeley/Python-Fundamentals/blob/main/glossary.md)."
   ]
  },
  {
   "cell_type": "markdown",
   "metadata": {},
   "source": [
    "## Challenge 2: Nested Functions\n",
    "\n",
    "1. Predict what each of the `print` statements in the program below will print. Run the code. If it doesn't match your expectations, write out each step in the code.\n",
    "2. Does `max(str(len(rich)), poor)` run or produce an error message?\n",
    "   If it runs, does its result make any sense?"
   ]
  },
  {
   "cell_type": "code",
   "execution_count": null,
   "metadata": {},
   "outputs": [],
   "source": [
    "rich = \"gold\"\n",
    "poor = \"tin\"\n",
    "print(max(rich, poor))\n",
    "print(max(len(rich), len(poor)))"
   ]
  }
 ],
 "metadata": {
  "kernelspec": {
   "display_name": "Python 3 (ipykernel)",
   "language": "python",
   "name": "python3"
  },
  "language_info": {
   "codemirror_mode": {
    "name": "ipython",
    "version": 3
   },
   "file_extension": ".py",
   "mimetype": "text/x-python",
   "name": "python",
   "nbconvert_exporter": "python",
   "pygments_lexer": "ipython3",
   "version": "3.9.12"
  }
 },
 "nbformat": 4,
 "nbformat_minor": 4
}
