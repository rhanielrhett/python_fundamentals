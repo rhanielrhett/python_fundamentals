{
 "cells": [
  {
   "cell_type": "markdown",
   "metadata": {},
   "source": [
    "# Variables\n",
    "\n",
    "\n",
    "**Learning Objectives**\n",
    "- Learn variable assignment (and re-assignment!).\n",
    "- Perform calculations wth variables.\n",
    "* * * * *"
   ]
  },
  {
   "cell_type": "markdown",
   "metadata": {},
   "source": [
    "## Assigning and Printing Variables\n",
    "\n",
    "\n",
    "*   Variables are placeholders for useful values that we want to refer to again later in the code.\n",
    "*   In Python, the `=` symbol assigns the value on the right to the name on the left.\n",
    "*   The variable is created when a value is assigned to it. When you call the variable, it will refer to whatever value it currently holds.\n",
    "\n",
    "Here's Python code that assigns a year to a variable `year` and a month in quotation marks to a variable `month`."
   ]
  },
  {
   "cell_type": "code",
   "execution_count": null,
   "metadata": {},
   "outputs": [],
   "source": [
    "year = 2020\n",
    "month = 'July'\n",
    "\n",
    "# We can print variables with print()\n",
    "print(year)\n",
    "print(month)"
   ]
  },
  {
   "cell_type": "markdown",
   "metadata": {},
   "source": [
    "Print statements are super useful pieces of code to get a window into what values a variable has. To print multiple values, separate each item to print with a space."
   ]
  },
  {
   "cell_type": "code",
   "execution_count": null,
   "metadata": {},
   "outputs": [],
   "source": [
    "print(\"Year:\", year, \".Month:\", month)"
   ]
  },
  {
   "cell_type": "markdown",
   "metadata": {},
   "source": [
    "In addition, the argument `sep` (short for separator) can be used to control what goes in between each item. What will the following line of code return?"
   ]
  },
  {
   "cell_type": "code",
   "execution_count": null,
   "metadata": {},
   "outputs": [],
   "source": [
    "print(\"Year:\", year, \". Month:\", month, sep = '')"
   ]
  },
  {
   "cell_type": "markdown",
   "metadata": {
    "tags": []
   },
   "source": [
    "## Variable Name Requirements\n",
    "\n",
    "*   Variable names **must** follow a few rules:\n",
    "    *   They cannot start with a digit.\n",
    "    *   They cannot contain spaces, quotation marks, or other punctuation.\n",
    "    *   They *may* contain an underscore (typically used to separate words in long variable names).\n",
    "    \n",
    "Not following these rules will result in an error in Python. \n",
    "\n",
    "*   In addition, some **guidelines** for variable naming are:\n",
    "    *   Python is case-sensitive (`Year` and `year` are two separate variables).\n",
    "    *   Use meaningful variable names (e.g. `year` is more informative than `x`). A good reference is that you should be able to tell what is going on in the code and variables without having to run it.\n",
    "    *   Be consistent in your formatting  (e.g avoid StartYear and Stop_year).\n",
    "    *   Avoid overlap with existing variables and functions (e.g., `print`, `sum`, `str`).\n",
    "\n",
    "While these won't result in an error directly, they may result in unexpected behavior in your code. In addition, the code may be harder to parse by other people (or future you!)."
   ]
  },
  {
   "cell_type": "markdown",
   "metadata": {},
   "source": [
    "## Challenge 1: Debugging Variable Names\n",
    "\n",
    "The following pieces of code include variable names that cause an error. For each block of code consider the following questions:\n",
    "1. Which **rule** is being broken? Can you find this information in the error message?\n",
    "2. What **guidelines** aren't being followed? \n",
    "3. How would you change the code?"
   ]
  },
  {
   "cell_type": "code",
   "execution_count": null,
   "metadata": {},
   "outputs": [],
   "source": [
    "1a = 'Washington'\n",
    "b2 = 'Olympia'\n",
    "\n",
    "print('The capital of', 1a, 'is', b2)"
   ]
  },
  {
   "cell_type": "code",
   "execution_count": null,
   "metadata": {},
   "outputs": [],
   "source": [
    "A_variable = 22\n",
    "anotherVariable = 42\n",
    "print(a_variable * anotherVariable)"
   ]
  },
  {
   "cell_type": "markdown",
   "metadata": {},
   "source": [
    "## Variable Arithmetic\n",
    "\n",
    "*   The key feature of variables is that we can use them in calculations and functions just as if they were values.\n",
    "*   **Operators** (special symbols that perform calculations) are shown in purple in a Jupyter Notebook. These are special symbols that tell Python to perform certain operations.\n",
    "* **Functions** are processes that perform multiple operations on variables. We will cover these in a later notebook. \n",
    "\n",
    "Let's check out some common operations below. Predict the outputs of each of the lines of code below. Note what values get substituted in for the variables in each operation. "
   ]
  },
  {
   "cell_type": "code",
   "execution_count": null,
   "metadata": {},
   "outputs": [],
   "source": [
    "apples = 15\n",
    "students = 5\n",
    "\n",
    "# Addition\n",
    "apples = apples + 3\n",
    "print('Addition', apples)\n",
    "\n",
    "# Subtraction\n",
    "apples = apples - 3\n",
    "print('Subtraction:', apples)\n",
    "\n",
    "# Multiplication\n",
    "print('Multiplication:', apples * students)\n",
    "\n",
    "# Division\n",
    "print('Division:', apples / students)\n",
    "\n",
    "# Exponentiation\n",
    "print('Exponentiation:', students**2)"
   ]
  },
  {
   "cell_type": "markdown",
   "metadata": {},
   "source": [
    "## Challenge 2: Swapping Values\n",
    "\n",
    "Let's say we have two variables and we want to swap the values for each of them. \n",
    "\n",
    "Does the following method accomplish the goal? (**Hint**: What is the value of first and last at the end of the cell?) `"
   ]
  },
  {
   "cell_type": "code",
   "execution_count": null,
   "metadata": {},
   "outputs": [],
   "source": [
    "first = 'a'\n",
    "last = 'z'\n",
    "\n",
    "first = last\n",
    "last = first"
   ]
  },
  {
   "cell_type": "markdown",
   "metadata": {},
   "source": [
    "Using a third temporary variable (for example 'temp'), swap the first and last variables, so that `first = 'z'` and `last = 'a'`."
   ]
  },
  {
   "cell_type": "code",
   "execution_count": null,
   "metadata": {},
   "outputs": [],
   "source": [
    "first = 'a'\n",
    "last = 'z'\n",
    "\n",
    "# YOUR CODE HERE"
   ]
  },
  {
   "cell_type": "markdown",
   "metadata": {},
   "source": [
    "This is a common technique that is used for swapping variables around. However, often we might choose to just use new variables, rather than overwrite the ones here. Can you think of a reason why we might avoid overwriting a variable? How about a reason why we *would* overwrite a variable?"
   ]
  }
 ],
 "metadata": {
  "anaconda-cloud": {},
  "kernelspec": {
   "display_name": "Python 3 (ipykernel)",
   "language": "python",
   "name": "python3"
  },
  "language_info": {
   "codemirror_mode": {
    "name": "ipython",
    "version": 3
   },
   "file_extension": ".py",
   "mimetype": "text/x-python",
   "name": "python",
   "nbconvert_exporter": "python",
   "pygments_lexer": "ipython3",
   "version": "3.9.12"
  },
  "toc": {
   "base_numbering": 1,
   "nav_menu": {},
   "number_sections": false,
   "sideBar": true,
   "skip_h1_title": false,
   "title_cell": "Table of Contents",
   "title_sidebar": "Contents",
   "toc_cell": false,
   "toc_position": {},
   "toc_section_display": true,
   "toc_window_display": true
  },
  "varInspector": {
   "cols": {
    "lenName": 16,
    "lenType": 16,
    "lenVar": 40
   },
   "kernels_config": {
    "python": {
     "delete_cmd_postfix": "",
     "delete_cmd_prefix": "del ",
     "library": "var_list.py",
     "varRefreshCmd": "print(var_dic_list())"
    },
    "r": {
     "delete_cmd_postfix": ") ",
     "delete_cmd_prefix": "rm(",
     "library": "var_list.r",
     "varRefreshCmd": "cat(var_dic_list()) "
    }
   },
   "types_to_exclude": [
    "module",
    "function",
    "builtin_function_or_method",
    "instance",
    "_Feature"
   ],
   "window_display": false
  }
 },
 "nbformat": 4,
 "nbformat_minor": 4
}
