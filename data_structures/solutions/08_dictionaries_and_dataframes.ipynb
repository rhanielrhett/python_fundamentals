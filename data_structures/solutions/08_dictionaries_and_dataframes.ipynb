{
 "cells": [
  {
   "cell_type": "markdown",
   "metadata": {},
   "source": [
    "## Challenge 1: Creating a Dictionary\n",
    "\n",
    "Create a dictionary `fruits` using the following lists as *values*. Choose an appropriate string for each of the *keys* of the dictionary. Print the keys in the dictionary."
   ]
  },
  {
   "cell_type": "code",
   "execution_count": null,
   "metadata": {},
   "outputs": [],
   "source": [
    "fruit = ['apple', 'orange', 'mango']\n",
    "length = [3.2, 2.1, 3.1]\n",
    "color = ['red', 'orange', 'yellow']\n",
    "\n",
    "\n",
    "fruits_dict= {'fruit':fruit,\n",
    "             'length':length,\n",
    "             'color':color}\n",
    "fruits_dict"
   ]
  },
  {
   "cell_type": "markdown",
   "metadata": {},
   "source": [
    "## Challenge 2: Initializing a DataFrame\n",
    "\n",
    "The following code gives a couple of errors. What are the errors? What are some ways we could fix this?"
   ]
  },
  {
   "cell_type": "code",
   "execution_count": null,
   "metadata": {},
   "outputs": [],
   "source": [
    "import pandas as pd\n",
    "\n",
    "#Error 1: the keys are lists, not strings\n",
    "#Error 2: The fruit list is shorter than the other two, so the data are not rectangular. \n",
    "# Add a filler to the fruit list to make sure it is the same length\n",
    "fruit = ['apple', 'orange']\n",
    "length = [3.2, 2.1, 3.1]\n",
    "color = ['red', 'orange', 'yellow']\n",
    "\n",
    "fruits = {\n",
    "    fruit: fruit,\n",
    "    length: length,\n",
    "    color: color}\n",
    "\n",
    "df = pd.DataFrame(fruits)"
   ]
  },
  {
   "cell_type": "markdown",
   "metadata": {},
   "source": [
    "Solution:"
   ]
  },
  {
   "cell_type": "code",
   "execution_count": null,
   "metadata": {},
   "outputs": [],
   "source": [
    "fruit = ['apple', 'orange','unknown']\n",
    "length = [3.2, 2.1, 3.1]\n",
    "color = ['red', 'orange', 'yellow']\n",
    "\n",
    "fruits = {\n",
    "    'fruit': fruit,\n",
    "    'length': length,\n",
    "    'color': color}\n",
    "\n",
    "df = pd.DataFrame(fruits)"
   ]
  },
  {
   "cell_type": "markdown",
   "metadata": {},
   "source": [
    "## Challenge 3: `value_counts()`\n",
    "\n",
    "There is another pandas function `.value_counts()` which can be used to help organize the information provided by both `unique()` and `nunique()`. Read the [documentation](https://pandas.pydata.org/docs/reference/api/pandas.Series.value_counts.html) and apply `value_counts()` to the `df` variable. How many 'red' and 'orange' fruits are in the DataFrame?"
   ]
  },
  {
   "cell_type": "code",
   "execution_count": null,
   "metadata": {},
   "outputs": [],
   "source": [
    "fruit = ['apple', 'orange', 'mango', 'strawberry', 'salmonberry', 'thimbleberry']\n",
    "size = [3, 2, 3, 1, 1, 1]\n",
    "color = ['red', 'orange', 'orange', 'red', 'orange', 'red']\n",
    "\n",
    "fruits = {\n",
    "    'fruit': fruit,\n",
    "    'size': size,\n",
    "    'color': color}\n",
    "\n",
    "df = pd.DataFrame(fruits)\n",
    "df"
   ]
  },
  {
   "cell_type": "code",
   "execution_count": null,
   "metadata": {},
   "outputs": [],
   "source": [
    "df['color'].value_counts()"
   ]
  },
  {
   "cell_type": "code",
   "execution_count": null,
   "metadata": {},
   "outputs": [],
   "source": []
  }
 ],
 "metadata": {
  "kernelspec": {
   "display_name": "Python 3 (ipykernel)",
   "language": "python",
   "name": "python3"
  },
  "language_info": {
   "codemirror_mode": {
    "name": "ipython",
    "version": 3
   },
   "file_extension": ".py",
   "mimetype": "text/x-python",
   "name": "python",
   "nbconvert_exporter": "python",
   "pygments_lexer": "ipython3",
   "version": "3.9.12"
  }
 },
 "nbformat": 4,
 "nbformat_minor": 4
}
