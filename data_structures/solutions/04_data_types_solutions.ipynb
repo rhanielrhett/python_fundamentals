{
 "cells": [
  {
   "cell_type": "markdown",
   "id": "0ab7f9a3",
   "metadata": {},
   "source": [
    "## Challenge 1: String to integer\n",
    "\n",
    "Try converting `pi` to an int type."
   ]
  },
  {
   "cell_type": "code",
   "execution_count": null,
   "id": "db26f995",
   "metadata": {},
   "outputs": [],
   "source": [
    "pi = '3.14'\n",
    "int(float(pi))\n",
    "\n",
    "#We need an intermediate step of float conversion in order for the code to work. "
   ]
  },
  {
   "cell_type": "markdown",
   "id": "5a79aa91",
   "metadata": {},
   "source": [
    "## Challenge 2: String Methods\n",
    "\n",
    "1. Use `str.split()` on the following sentences. What is the type of the output? What does it look like the function is doing?\n",
    "2. Use `str.split?` to read the documentation for `str.split()`. What does `sep=` do? ( **Bonus:** where have we seen `sep=` before?)\n",
    "3. Try using `sep='.'`. Compare the output to that in Question 1\n",
    "4. What would you set `sep` equal to to get the same output as Question 1?\n",
    "\n",
    "**Bonus**: What is the type of the output?"
   ]
  },
  {
   "cell_type": "code",
   "execution_count": null,
   "id": "1fd45798",
   "metadata": {},
   "outputs": [],
   "source": [
    "str.split?\n",
    "sentence1 = 'There is a giraffe. There is an elephant.'\n",
    "sentence2 = 'They are playing chess.'"
   ]
  },
  {
   "cell_type": "code",
   "execution_count": null,
   "id": "93fb7cba",
   "metadata": {},
   "outputs": [],
   "source": [
    "sentence1.split()"
   ]
  },
  {
   "cell_type": "code",
   "execution_count": null,
   "id": "e8846035",
   "metadata": {},
   "outputs": [],
   "source": [
    "sentence2.split()"
   ]
  },
  {
   "cell_type": "code",
   "execution_count": null,
   "id": "1e1818e9",
   "metadata": {},
   "outputs": [],
   "source": [
    "print(type(sentence1.split()))"
   ]
  },
  {
   "cell_type": "code",
   "execution_count": null,
   "id": "7264fdc9",
   "metadata": {},
   "outputs": [],
   "source": [
    "sentence1.split(sep='.')"
   ]
  },
  {
   "cell_type": "code",
   "execution_count": null,
   "id": "c2d0b608",
   "metadata": {},
   "outputs": [],
   "source": [
    "sentence1.split(sep='.')"
   ]
  },
  {
   "cell_type": "code",
   "execution_count": null,
   "id": "41dd0e37",
   "metadata": {},
   "outputs": [],
   "source": [
    "sentence1.split(sep=' ')"
   ]
  },
  {
   "cell_type": "code",
   "execution_count": null,
   "id": "cbcc577e",
   "metadata": {},
   "outputs": [],
   "source": [
    "sentence1.split(sep=' ')"
   ]
  },
  {
   "cell_type": "markdown",
   "id": "88a4146a",
   "metadata": {},
   "source": [
    "## Challenge 3: Replacing a character\n"
   ]
  },
  {
   "cell_type": "code",
   "execution_count": null,
   "id": "0e16f623",
   "metadata": {},
   "outputs": [],
   "source": [
    "# One solution\n",
    "sentence4 = \"Firstname Lastname.csv\"\n",
    "sentence4.replace(' ','_')"
   ]
  }
 ],
 "metadata": {
  "kernelspec": {
   "display_name": "Python 3 (ipykernel)",
   "language": "python",
   "name": "python3"
  },
  "language_info": {
   "codemirror_mode": {
    "name": "ipython",
    "version": 3
   },
   "file_extension": ".py",
   "mimetype": "text/x-python",
   "name": "python",
   "nbconvert_exporter": "python",
   "pygments_lexer": "ipython3",
   "version": "3.9.12"
  }
 },
 "nbformat": 4,
 "nbformat_minor": 5
}
