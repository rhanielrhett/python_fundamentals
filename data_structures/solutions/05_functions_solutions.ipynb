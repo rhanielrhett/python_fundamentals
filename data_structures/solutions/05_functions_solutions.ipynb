{
 "cells": [
  {
   "cell_type": "markdown",
   "id": "3a3d6169",
   "metadata": {},
   "source": [
    "## Challenge 1: Errors in Nested Functions\n",
    "\n",
    "\n",
    "What does the following line of code do?\n",
    "Running this code gives an error. What type of error is it? How can we fix it?"
   ]
  },
  {
   "cell_type": "code",
   "execution_count": 1,
   "id": "d045e209",
   "metadata": {},
   "outputs": [
    {
     "ename": "SyntaxError",
     "evalue": "unexpected EOF while parsing (3622155098.py, line 2)",
     "output_type": "error",
     "traceback": [
      "\u001b[1;36m  Input \u001b[1;32mIn [1]\u001b[1;36m\u001b[0m\n\u001b[1;33m    print(max(len('hi'), len('hello'))\u001b[0m\n\u001b[1;37m                                      ^\u001b[0m\n\u001b[1;31mSyntaxError\u001b[0m\u001b[1;31m:\u001b[0m unexpected EOF while parsing\n"
     ]
    }
   ],
   "source": [
    "# Syntax error: we need an extra parenthesis\n",
    "print(max(len('hi'), len('hello'))"
   ]
  },
  {
   "cell_type": "code",
   "execution_count": 2,
   "id": "8878ee7a",
   "metadata": {},
   "outputs": [
    {
     "name": "stdout",
     "output_type": "stream",
     "text": [
      "5\n"
     ]
    }
   ],
   "source": [
    "print(max(len('hi'), len('hello')))"
   ]
  },
  {
   "cell_type": "markdown",
   "id": "f12414fd",
   "metadata": {},
   "source": [
    "## Challenge 2: Nested Functions\n",
    "\n",
    "1. Predict what each of the `print` statements in the program below will print.\n",
    "2. Does `max(str(len(rich)), poor)` run or produce an error message?\n",
    "   If it runs, does its result make any sense?"
   ]
  },
  {
   "cell_type": "code",
   "execution_count": null,
   "id": "5057be01",
   "metadata": {},
   "outputs": [],
   "source": [
    "rich = \"gold\"\n",
    "poor = \"tin\"\n",
    "# Max returns the latest alphabetical entry when applied to strings\n",
    "print(max(rich, poor))\n",
    "# Max is telling us the length of the longest string\n",
    "print(max(len(rich), len(poor)))"
   ]
  },
  {
   "cell_type": "code",
   "execution_count": null,
   "id": "8ca16c6c",
   "metadata": {},
   "outputs": [],
   "source": [
    "#comparing alphanumeric strings have the order '0-9A-Za-z', even for number strings\n",
    "max(str(len(rich)), poor)"
   ]
  },
  {
   "cell_type": "code",
   "execution_count": null,
   "id": "00fee0e5",
   "metadata": {},
   "outputs": [],
   "source": []
  }
 ],
 "metadata": {
  "kernelspec": {
   "display_name": "Python 3 (ipykernel)",
   "language": "python",
   "name": "python3"
  },
  "language_info": {
   "codemirror_mode": {
    "name": "ipython",
    "version": 3
   },
   "file_extension": ".py",
   "mimetype": "text/x-python",
   "name": "python",
   "nbconvert_exporter": "python",
   "pygments_lexer": "ipython3",
   "version": "3.9.12"
  }
 },
 "nbformat": 4,
 "nbformat_minor": 5
}
