{
 "cells": [
  {
   "cell_type": "code",
   "execution_count": null,
   "metadata": {},
   "outputs": [],
   "source": [
    "import pandas as pd\n",
    "import os"
   ]
  },
  {
   "cell_type": "markdown",
   "metadata": {},
   "source": [
    "## Challenge 1: Subfolder Access\n",
    "\n",
    "There is a `capitals2.csv` file in the `data` subfolder of this folder. This is a common structure for projects, because it is easy to locate with a relative path, and contains only the files that will be analyzed.\n",
    "\n",
    "Each of the ways below are incorrect, and give an error. What is the error? How would you properly access the file?"
   ]
  },
  {
   "cell_type": "code",
   "execution_count": null,
   "metadata": {},
   "outputs": [],
   "source": [
    "pd.read_csv('capitals2.csv')  #needs to refer to a subfolder\n",
    "pd.read_csv('../capitals2.csv') #needs single dot\n",
    "pd.read_csv('/data/capitals2.csv') #extra backslash at the beginning"
   ]
  },
  {
   "cell_type": "markdown",
   "metadata": {},
   "source": [
    "## Challenge 2: Reading in Multiple Files\n",
    "\n",
    "Use `os.listdir()` to identify each file in the `data` subfolder. Read each `csv` file in the list using `pd.read_csv()` and append it to the variable `df_list`. \n",
    "\n",
    "**Hint**: Are there any non-csv files in the folder? What happens when you try to read them in with `read_csv()`? How can we account for them?\n",
    "\n",
    "**Bonus**: Wrap this code in a function called `read_files()` that takes as input a directory and returns a list of `pd.DataFrames`."
   ]
  },
  {
   "cell_type": "code",
   "execution_count": null,
   "metadata": {},
   "outputs": [],
   "source": [
    "\n",
    "df_list = []\n",
    "directory = 'data'\n",
    "for file in os.listdir(directory):\n",
    "    if file.split('.')[1] == 'csv':\n",
    "        path = os.path.join(directory,file)\n",
    "        print(path)\n",
    "        df_list.append(pd.read_csv(path))\n"
   ]
  },
  {
   "cell_type": "code",
   "execution_count": null,
   "metadata": {},
   "outputs": [],
   "source": [
    "pd.concat(df_list)"
   ]
  },
  {
   "cell_type": "code",
   "execution_count": null,
   "metadata": {},
   "outputs": [],
   "source": []
  }
 ],
 "metadata": {
  "kernelspec": {
   "display_name": "Python 3 (ipykernel)",
   "language": "python",
   "name": "python3"
  },
  "language_info": {
   "codemirror_mode": {
    "name": "ipython",
    "version": 3
   },
   "file_extension": ".py",
   "mimetype": "text/x-python",
   "name": "python",
   "nbconvert_exporter": "python",
   "pygments_lexer": "ipython3",
   "version": "3.9.12"
  }
 },
 "nbformat": 4,
 "nbformat_minor": 4
}
