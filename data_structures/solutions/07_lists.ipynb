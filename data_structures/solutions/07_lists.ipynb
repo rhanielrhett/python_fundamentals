{
 "cells": [
  {
   "cell_type": "markdown",
   "metadata": {},
   "source": [
    "## Challenge 1: Slicing Lists\n",
    "Using the lists in the next cell:\n",
    "\n",
    "1. What does `thing[start:stop]` do? What is the output?\n",
    "2. Write three different ways to slice the string from 'elephant' to the end."
   ]
  },
  {
   "cell_type": "code",
   "execution_count": null,
   "metadata": {},
   "outputs": [],
   "source": [
    "thing = [1, 3, 8, 'elephant', 'banana', 2]\n",
    "start = 2\n",
    "stop = 5"
   ]
  },
  {
   "cell_type": "code",
   "execution_count": null,
   "metadata": {},
   "outputs": [],
   "source": [
    "#1. \n",
    "thing[2:5] "
   ]
  },
  {
   "cell_type": "code",
   "execution_count": null,
   "metadata": {},
   "outputs": [],
   "source": [
    "#2. \n",
    "print(thing[-3:])\n",
    "print(thing[3:])\n",
    "print(thing[3:6])"
   ]
  },
  {
   "cell_type": "markdown",
   "metadata": {},
   "source": [
    "## Challenge 2: Appending to Lists\n",
    "\n",
    "We've created a list called `thing` in the cell below.\n",
    "\n",
    "1. Append the following values to the list, individually: `'apple'`, `8`, and `9`. Print the ensuing list out.\n",
    "2. Make a new list called `thing2` consisting of the values `'apple'`, `8`, and `9`. Append `thing2` to `thing`. How does the output differ from the output from the previous part?\n",
    "3. Look at the [documentation](https://docs.python.org/3/tutorial/datastructures.html#more-on-lists) for the list method `.extend()`. Is there a way to rewrite your answer to (2) to use extend? How does that compare to the outputs of the previous two parts?\n",
    "4. What is one situation where you would use `append` and one where you would use `extend`?\n",
    "\n",
    "**Hint**: *Iterable* in Python means an object with multiple values that can be iterated through (including lists, tuples, and even strings)."
   ]
  },
  {
   "cell_type": "code",
   "execution_count": null,
   "metadata": {},
   "outputs": [],
   "source": [
    "thing = [1, 3, 8, 'elephant', 'banana', 2]\n",
    "\n",
    "# 1\n",
    "thing.append('apple')\n",
    "thing.append(8)\n",
    "thing.append(9)\n",
    "print(thing)\n",
    "\n",
    "# 2\n",
    "thing = [1, 3, 8, 'elephant', 'banana', 2]\n",
    "\n",
    "thing2 = ['apple',8,9]\n",
    "thing.append(thing2)\n",
    "print(thing)\n",
    "\n",
    "#3 \n",
    "thing = [1, 3, 8, 'elephant', 'banana', 2]\n",
    "thing2 = ['apple',8,9]\n",
    "thing.extend(thing2)\n",
    "print(thing)\n"
   ]
  }
 ],
 "metadata": {
  "kernelspec": {
   "display_name": "Python 3 (ipykernel)",
   "language": "python",
   "name": "python3"
  },
  "language_info": {
   "codemirror_mode": {
    "name": "ipython",
    "version": 3
   },
   "file_extension": ".py",
   "mimetype": "text/x-python",
   "name": "python",
   "nbconvert_exporter": "python",
   "pygments_lexer": "ipython3",
   "version": "3.9.12"
  }
 },
 "nbformat": 4,
 "nbformat_minor": 4
}
