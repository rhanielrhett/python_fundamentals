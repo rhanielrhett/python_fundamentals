{
 "cells": [
  {
   "cell_type": "markdown",
   "metadata": {},
   "source": [
    "## Challenge 1: My First Function\n",
    "\n",
    "Write a function that converts Celsius temperatures to Fahrenheit. The formula for this conversion is:\n",
    "\n",
    "$$F = 1.8 * C + 32$$"
   ]
  },
  {
   "cell_type": "code",
   "execution_count": null,
   "metadata": {},
   "outputs": [],
   "source": [
    "def c_to_f(temp):\n",
    "    return(temp * 1.8 +32)"
   ]
  },
  {
   "cell_type": "code",
   "execution_count": null,
   "metadata": {},
   "outputs": [],
   "source": [
    "c_to_f(0)"
   ]
  },
  {
   "cell_type": "markdown",
   "metadata": {},
   "source": [
    "## Challenge 2: Modifying a function \n",
    "\n",
    "Now let's check our `get_state_abbreviation()` function for `Michigan` and `Minnesota`. What happens in the case where the states have the same first two letters? \n",
    "\n",
    "Write down a revised plan for the function to account for cases like the above, following the steps outlined in the previous section. Don't worry about writing the code for the function at this point- the goal is to think broadly about what we would need to build a function to accomplish our goal. What additional structures or information might you need in order to accommodate cases like Michigan/Minnesota or Maine/Maryland?"
   ]
  },
  {
   "cell_type": "code",
   "execution_count": null,
   "metadata": {},
   "outputs": [],
   "source": [
    "#original abbreviating function\n",
    "def get_state_abbreviation(state):\n",
    "    first_two = state[:2]\n",
    "    abbr = first_two.upper()\n",
    "    return(abbr)"
   ]
  },
  {
   "cell_type": "code",
   "execution_count": null,
   "metadata": {},
   "outputs": [],
   "source": [
    "# YOUR CODE HERE\n"
   ]
  },
  {
   "cell_type": "markdown",
   "metadata": {},
   "source": [
    "\n",
    " **Plan**\n",
    "    1. Generate two-letter abbreviation for a state\n",
    "    2. Input: string of state name\n",
    "    3. Output: two letter abbreviation based on \n",
    "    USPS abbreviation scheme\n",
    "    4. The pseudocode might look like this: \n",
    "    \n",
    "        function\n",
    "        \n",
    "            select abbreviation from a list of abbreviations organized alphabetically\n",
    "            \n",
    "            return\n"
   ]
  },
  {
   "cell_type": "markdown",
   "metadata": {},
   "source": [
    "## Challenge 3: More Errors!\n",
    "\n",
    "Why do the following lines return errors?\n",
    "\n",
    "**Hint**: Think about what happens inside the function, and how the arguments fit into the function."
   ]
  },
  {
   "cell_type": "code",
   "execution_count": null,
   "metadata": {},
   "outputs": [],
   "source": [
    "def divide(x, y=10):\n",
    "    return(x / y)"
   ]
  },
  {
   "cell_type": "code",
   "execution_count": null,
   "metadata": {
    "scrolled": true
   },
   "outputs": [],
   "source": [
    "#Keyword arguments must follow positional (non-keyword) arguments\n",
    "divide(z=False,10, 4)"
   ]
  },
  {
   "cell_type": "code",
   "execution_count": null,
   "metadata": {},
   "outputs": [],
   "source": [
    "# solution\n",
    "divide(10, 4,False)"
   ]
  },
  {
   "cell_type": "code",
   "execution_count": null,
   "metadata": {
    "scrolled": true
   },
   "outputs": [],
   "source": [
    "#Wrong type for the argument. Convert the string to a number\n",
    "divide(4, y='10')"
   ]
  },
  {
   "cell_type": "code",
   "execution_count": null,
   "metadata": {},
   "outputs": [],
   "source": [
    "#solution\n",
    "divide(4, y=int('10'))"
   ]
  },
  {
   "cell_type": "code",
   "execution_count": null,
   "metadata": {},
   "outputs": [],
   "source": [
    "divide(4) #needs another argument"
   ]
  },
  {
   "cell_type": "code",
   "execution_count": null,
   "metadata": {},
   "outputs": [],
   "source": [
    "#solution\n",
    "divide(4,10)"
   ]
  }
 ],
 "metadata": {
  "kernelspec": {
   "display_name": "Python 3 (ipykernel)",
   "language": "python",
   "name": "python3"
  },
  "language_info": {
   "codemirror_mode": {
    "name": "ipython",
    "version": 3
   },
   "file_extension": ".py",
   "mimetype": "text/x-python",
   "name": "python",
   "nbconvert_exporter": "python",
   "pygments_lexer": "ipython3",
   "version": "3.9.12"
  }
 },
 "nbformat": 4,
 "nbformat_minor": 4
}
