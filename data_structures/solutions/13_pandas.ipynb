{
 "cells": [
  {
   "cell_type": "markdown",
   "metadata": {},
   "source": [
    "## Challenge 1: Methods\n"
   ]
  },
  {
   "cell_type": "code",
   "execution_count": null,
   "metadata": {},
   "outputs": [],
   "source": [
    "import pandas as pd\n",
    "import numpy as np\n",
    "penguins = pd.read_csv('penguins.csv')\n",
    "penguins['species'].value_counts(ascending=True)\n",
    "#Operating on a series\n",
    "#Returns a series of counts for each unique value in the column"
   ]
  },
  {
   "cell_type": "code",
   "execution_count": null,
   "metadata": {},
   "outputs": [],
   "source": [
    "penguins.isnull()\n",
    "#operates on the dataframe\n",
    "#returns a dataframe with True where null items are"
   ]
  },
  {
   "cell_type": "code",
   "execution_count": null,
   "metadata": {},
   "outputs": [],
   "source": [
    "penguins.dropna()\n",
    "#operates on the dataframe\n"
   ]
  },
  {
   "cell_type": "code",
   "execution_count": null,
   "metadata": {},
   "outputs": [],
   "source": [
    "penguins['species'].str[0]\n",
    "#operates on a column\n",
    "#returns first item of every string"
   ]
  },
  {
   "cell_type": "markdown",
   "metadata": {},
   "source": [
    "## Challenge 2: Finding the right method\n",
    "\n",
    "Recall that in the penguins data set, there was one column that had two values 'MALE' and 'FEMALE'. Let's say that for a model, we want to replace the string values with numbers (FEMALE = 0; MALE = 1). Look at the [documentation](https://pandas.pydata.org/docs/reference/api/pandas.Series.html) and identify a method to *replace* the strings with their corresponding numbers. Then try to implement the method. What roadblocks do you run across?"
   ]
  },
  {
   "cell_type": "code",
   "execution_count": null,
   "metadata": {},
   "outputs": [],
   "source": [
    "penguins['sex_numeric'] = penguins['sex'].replace(['MALE','FEMALE'],[1,0])"
   ]
  },
  {
   "cell_type": "markdown",
   "metadata": {},
   "source": [
    "2)  Notice that there are some 'NaN' values in the `Series`. You do some research and identify three possible solutions to deal with the NaN values (listed below). For each of the options, describe what will happen to NaN values in the column, and the DataFrame as a whole. Which option seems most appropriate? Modify that function as necessary. \n",
    "\n",
    "Consider the following:\n",
    "- Is the whole DataFrame or just the column (Series) being operated on?\n",
    "- What exactly are happening to the NaN values?\n",
    "- What are the consequences, if any, for the solution in the hypothetical model? \n",
    "- Should removing null values happen before, during or after the conversion in (1)?"
   ]
  },
  {
   "cell_type": "code",
   "execution_count": null,
   "metadata": {
    "scrolled": true
   },
   "outputs": [],
   "source": [
    "penguins['sex'].replace(['MALE','FEMALE',np.nan],[1,0,2])\n",
    "#Replaces nulls with 2. Might have issues in the model (since 2 doesn't represent a third category)"
   ]
  },
  {
   "cell_type": "code",
   "execution_count": null,
   "metadata": {},
   "outputs": [],
   "source": [
    "penguins.fillna(2)\n",
    "\n",
    "#Fill in all NAs in the dataset with 2. \n",
    "#This could work if you modify it to penguins['sex'].fillna(2), although it runs into the same issues as above.\n"
   ]
  },
  {
   "cell_type": "code",
   "execution_count": null,
   "metadata": {},
   "outputs": [],
   "source": [
    "penguins.dropna(subset = 'sex')\n",
    "#This drops all rows with NAN in the sex column. This is the most straightforward option.\n",
    "#However, it reduces the amount of data in the dataset.\n"
   ]
  },
  {
   "cell_type": "markdown",
   "metadata": {},
   "source": [
    "## Challenge 3: Subsetting a DataFrame\n",
    "1. Modify the .loc[] expression above to subset for all Adelie penguins and save it to a variable `adelie`\n",
    "2. Calculate the mean body mass for this species (**Hint**: use `.mean()`).\n",
    "3. Repeat 1-2 for Gentoo and Chinstrap penguins."
   ]
  },
  {
   "cell_type": "code",
   "execution_count": null,
   "metadata": {},
   "outputs": [],
   "source": [
    "adelie = penguins.loc[penguins['species']=='Adelie',:]\n",
    "chinstrap = penguins.loc[penguins['species']=='Chinstrap',:]\n",
    "gentoo = penguins.loc[penguins['species']=='Gentoo',:]"
   ]
  },
  {
   "cell_type": "markdown",
   "metadata": {},
   "source": [
    "## Challenge 4: Customizing a Plot\n",
    "\n",
    "One intuition may be that different penguin species have different culmen length/depth, resulting in the pattern observed in the scatterplot above. Let's say we want to explore this pattern by plotting the data for each species in a different color. This will allow us to visualize this pattern if it is present in the data.\n",
    "\n",
    "The way we implement this in plotting is by plotting individual layers for each species. Most visualizations treat images as \"layers\" on the backend. This allows us to create customizations to plots pretty easily, because each customization would be a new \"layer\".\n",
    "\n",
    "So let's try it! Specifically, we want to visualize the culmen depth vs. the culmen length for each of the penguin species separately. We'll use different colors for each species.\n",
    "\n",
    "To do this, we set the first layer equal to the variable `fig`. This represents our plot. All of our plots thus far have had a single layer. To include multiple layers in a plot, we simply include the argument `ax=fig` in any subsequent layers. This tells `pandas` to put new layers on the original plot rather than to make a new plot.\n",
    "\n",
    "Follow the steps below to make your own layered visualization!\n",
    "\n",
    "1. Make three different sub-DataFrames, one for each species, using `.loc[]` and a Boolean mask. (**Hint:** This is the solution to Challenge 3)\n",
    "2. Plot the first layer and set it equal to `fig`.\n",
    "3. Plot subsequent layers. Use a different color for each species (look at the documentation for the name of the color parameter). Some possible colors to use are `'green'`, `'red'`, `'purple'`, `'black'`, etc. (Remember to include the argument `ax=fig`!)\n",
    "4. Do you notice a pattern in culmen measurements based on species? What other elements for the plot would be helpful for interpreting it?\n",
    "\n",
    "**Bonus:** Add a title and any other modifications to the plot (better x and y labels, for example)."
   ]
  },
  {
   "cell_type": "code",
   "execution_count": null,
   "metadata": {},
   "outputs": [],
   "source": [
    "adelie = penguins.loc[penguins['species']=='Adelie',:]\n",
    "chinstrap = penguins.loc[penguins['species']=='Chinstrap',:]\n",
    "gentoo = penguins.loc[penguins['species']=='Gentoo',:]\n",
    "\n",
    "\n",
    "fig = adelie.plot(x='culmen_depth_mm',y='culmen_length_mm',kind = 'scatter')\n",
    "gentoo.plot(x='culmen_depth_mm',y='culmen_length_mm',kind = 'scatter',color='red',ax=fig)\n",
    "chinstrap.plot(x='culmen_depth_mm',y='culmen_length_mm',kind = 'scatter',color='green',ax=fig)"
   ]
  }
 ],
 "metadata": {
  "kernelspec": {
   "display_name": "Python 3 (ipykernel)",
   "language": "python",
   "name": "python3"
  },
  "language_info": {
   "codemirror_mode": {
    "name": "ipython",
    "version": 3
   },
   "file_extension": ".py",
   "mimetype": "text/x-python",
   "name": "python",
   "nbconvert_exporter": "python",
   "pygments_lexer": "ipython3",
   "version": "3.9.12"
  }
 },
 "nbformat": 4,
 "nbformat_minor": 4
}
