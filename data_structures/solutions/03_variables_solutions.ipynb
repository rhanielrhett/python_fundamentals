{
 "cells": [
  {
   "cell_type": "markdown",
   "id": "617b8eae",
   "metadata": {},
   "source": [
    "## Challenge 1: Debugging Variable Names\n",
    "\n",
    "The following pieces of code include variable names that cause an error. What's wrong and how would we fix it? Are there any other guidelines that aren't being met with the variable names?"
   ]
  },
  {
   "cell_type": "code",
   "execution_count": null,
   "id": "1b2388da",
   "metadata": {},
   "outputs": [],
   "source": [
    "# First variable starts with a number, names are uninformative\n",
    "1a = 'Washington'\n",
    "b2 = 'Olympia'\n",
    "print('The capital of', a1, 'is', b2)"
   ]
  },
  {
   "cell_type": "code",
   "execution_count": null,
   "id": "1dc91ffc",
   "metadata": {},
   "outputs": [],
   "source": [
    "# Solution\n",
    "state = 'Washington'\n",
    "city = 'Olympia'\n",
    "print('The capital of', state, 'is', city)"
   ]
  },
  {
   "cell_type": "code",
   "execution_count": null,
   "id": "efc1f01e",
   "metadata": {},
   "outputs": [],
   "source": [
    "# Python is case sensitive, inconsistent formatting\n",
    "A_variable = 22\n",
    "anotherVariable = 42\n",
    "print(a_variable * anotherVariable)"
   ]
  },
  {
   "cell_type": "code",
   "execution_count": null,
   "id": "edfa16e5",
   "metadata": {},
   "outputs": [],
   "source": [
    "# Solution\n",
    "a_variable = 22\n",
    "another_variable = 42\n",
    "print(a_variable * another_variable)"
   ]
  },
  {
   "cell_type": "markdown",
   "id": "99ce8c22",
   "metadata": {},
   "source": [
    "## Challenge 2: Swapping Values\n",
    "\n",
    "Let's say we have two variables and we want to swap the values for each of them. \n",
    "\n",
    "Does the following method accomplish the goal? What is the value of first and last at the end of the cell? `"
   ]
  },
  {
   "cell_type": "code",
   "execution_count": null,
   "id": "addc1bed",
   "metadata": {},
   "outputs": [],
   "source": [
    "first = 'a'\n",
    "last = 'z'\n",
    "\n",
    "first = last\n",
    "last = first\n",
    "\n",
    "print(first)\n",
    "print(last)\n",
    "\n",
    "#The value of first and last at the end are both z.\n",
    "#This is because when last is reassigned to first, the original value of first is not overwritten\n",
    "#We need a temporary variable to mediate the swap."
   ]
  },
  {
   "cell_type": "code",
   "execution_count": null,
   "id": "b80d152c",
   "metadata": {},
   "outputs": [],
   "source": [
    "#solution\n",
    "first = 'a'\n",
    "last = 'z'\n",
    "\n",
    "# YOUR CODE HERE\n",
    "temp = first\n",
    "first = last\n",
    "last = temp\n",
    "\n",
    "print(first)\n",
    "print(last)"
   ]
  },
  {
   "cell_type": "code",
   "execution_count": null,
   "id": "ef29e458",
   "metadata": {},
   "outputs": [],
   "source": []
  }
 ],
 "metadata": {
  "kernelspec": {
   "display_name": "Python 3 (ipykernel)",
   "language": "python",
   "name": "python3"
  },
  "language_info": {
   "codemirror_mode": {
    "name": "ipython",
    "version": 3
   },
   "file_extension": ".py",
   "mimetype": "text/x-python",
   "name": "python",
   "nbconvert_exporter": "python",
   "pygments_lexer": "ipython3",
   "version": "3.9.12"
  }
 },
 "nbformat": 4,
 "nbformat_minor": 5
}
