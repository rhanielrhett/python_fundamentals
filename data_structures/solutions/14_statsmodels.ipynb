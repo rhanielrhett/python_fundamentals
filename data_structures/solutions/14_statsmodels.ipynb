{
 "cells": [
  {
   "cell_type": "code",
   "execution_count": null,
   "metadata": {},
   "outputs": [],
   "source": [
    "import pandas as pd\n",
    "import statsmodels.api as sm\n",
    "import numpy as np\n",
    "df = pd.read_csv('penguins.csv').dropna()"
   ]
  },
  {
   "cell_type": "markdown",
   "metadata": {},
   "source": [
    "## Challenge 1: More `statsmodels`\n",
    "\n",
    "\n",
    "Let's practice with some more `statsmodels` functions. Let's modify the regression above to normalize each of the columns.\n",
    "\n",
    "1. For each column, subtract the mean and divide by the standard deviation (std) . \n",
    "2. Double check normalization - the mean of each column should be ~0 and the standard deviation ~1\n",
    "3. Fit and run a linear regression on the normalized data. \n",
    "4. Interpret the model. What does the model say now?\n",
    "\n",
    "**Bonus:** Implement another change to your model. (Add another feauture like island, remove a feature, modify a feature). Re-fit the model. What effect did your change have on the model?\n",
    "\n",
    "Make notes of what barriers you run into, and remember the general steps of coding!"
   ]
  },
  {
   "cell_type": "code",
   "execution_count": null,
   "metadata": {},
   "outputs": [],
   "source": [
    "X = df[['culmen_length_mm', 'culmen_depth_mm', 'flipper_length_mm']]\n",
    "y = df['body_mass_g']"
   ]
  },
  {
   "cell_type": "code",
   "execution_count": null,
   "metadata": {},
   "outputs": [],
   "source": [
    "#normalize\n",
    "X['culmen_length_mm'] = (X['culmen_length_mm']-np.mean(X['culmen_length_mm']))/(np.std(X['culmen_length_mm']))\n",
    "X['culmen_depth_mm'] = (X['culmen_depth_mm']-np.mean(X['culmen_depth_mm']))/(np.std(X['culmen_depth_mm']))\n",
    "X['flipper_length_mm'] = (X['flipper_length_mm']-np.mean(X['flipper_length_mm']))/(np.std(X['flipper_length_mm']))\n",
    "\n",
    "y = (y-np.mean(y))/(np.std(y))\n",
    "\n",
    "print(np.mean(y),np.std(y))"
   ]
  },
  {
   "cell_type": "code",
   "execution_count": null,
   "metadata": {},
   "outputs": [],
   "source": [
    "results = sm.OLS(y, X).fit()\n",
    "print(results.summary())"
   ]
  },
  {
   "cell_type": "code",
   "execution_count": null,
   "metadata": {},
   "outputs": [],
   "source": []
  }
 ],
 "metadata": {
  "kernelspec": {
   "display_name": "Python 3 (ipykernel)",
   "language": "python",
   "name": "python3"
  },
  "language_info": {
   "codemirror_mode": {
    "name": "ipython",
    "version": 3
   },
   "file_extension": ".py",
   "mimetype": "text/x-python",
   "name": "python",
   "nbconvert_exporter": "python",
   "pygments_lexer": "ipython3",
   "version": "3.9.12"
  }
 },
 "nbformat": 4,
 "nbformat_minor": 4
}
