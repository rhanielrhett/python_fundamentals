{
 "cells": [
  {
   "cell_type": "markdown",
   "metadata": {},
   "source": [
    "#### Before the workshop, read and complete the following steps to make sure that you are ready to start with the material for Part 1!\n",
    "\n",
    "# How do I run Python on my machine?\n",
    "\n",
    "There are a few options for running Python: \n",
    "\n",
    "**Recommended:**\n",
    "-  **Jupyter Notebook/JupyterLab:** All files in this workshop are Jupyter notebooks with the extension `.ipynb`. The key feature of a Jupyter notebook is its organization around *executable cells*. Jupyter notebooks are the most common format you'll encounter with Python programming revolving around data processing and analysis. Like a word document, Jupyter notebooks need to be opened in an appropriate app. Two most common options (Jupyter Notebook and JupyterLab) come installed with Anaconda (which you will install in the steps below). They can be opened with Anaconda Navigator or via the command line.\n",
    "\n",
    "**Next best options:**\n",
    "- **DataHub:** A cloud-based service at UC Berkeley for interacting with Jupyter Notebooks. If you haven't been able to install Anaconda on your machine, or it runs too slowly, you can use DataHub to host your materials on the cloud. To do so, click on the Launch DataHub button in the Readme of the repository.\n",
    "\n",
    "- **Binder:** Another cloud-based service for interacting with Jupyter Notebooks. This is like DataHub but a little slower. Use this alternative if you weren't able to complete the steps below, but don't have a UC Berkeley log-in.\n",
    "\n",
    "\n",
    "**Other alternatives:**\n",
    "\n",
    "- **Google Colab:** Another interface for working with Jupyter notebooks. The key difference is that Colab is hosted on Google servers rather than being run locally on your machine. Colab notebooks have more support for parallel processing (useful for large datasets and complex models), and don't require a Python distribution on your machine. \n",
    "\n",
    "- **Spyder (or another [IDE](https://en.wikipedia.org/wiki/Comparison_of_integrated_development_environments#Python)):** An integrated development environment (IDE) is a software application that provides a host of tools for debugging and development. They are usually used for running Python script files with extension `.py`, though newer IDEs are adding functionality for Jupyter notebooks. Spyder comes installed with the Anaconda distribution.\n",
    "\n",
    "- **Command Line:** It is also possible to run `.py` scripts directly in your terminal or command line (and even write the script in a text editor). This is not typically used for active development because it lacks the editor and tools of the above methods, but is sometimes used for executing scripts quickly.\n",
    "\n",
    "For this workshop, we will use the Anaconda distribution of Python and the included Jupyter Notebook or JupyterLab application. Before the first workshop, complete the following steps to get the workshop materials ready.\n",
    "\n",
    "\n",
    "## Step 1: Install Anaconda\n",
    "\n",
    "Some machines have Python pre-installed. However, we encourage students to download the Anaconda distribution of Python, which includes all of the software and packages that we will use throughout this workshop. \n",
    "\n",
    "1. Go to the [Anaconda homepage](https://www.anaconda.com/products/individual).\n",
    "2. Download the 64-bit Graphical Installer for your corresponding OS. \n",
    "3. Open the downloaded file and install the program.\n",
    "4. \"Anaconda Navigator\" will now be an application on your computer.\n",
    "\n",
    "## Step 2: Download the Workshop Materials\n",
    "\n",
    "Go to the [GitHub page](https://github.com/dlab-berkeley/python-fundamentals) for the workshop materials. On this page:\n",
    "   \n",
    "1. Click the green \"Code\" button in the top right.\n",
    "2. In the dropdown, click \"Download Zip\".\n",
    "3. Extract the downloaded files someplace familiar (we recommend your Desktop).\n",
    "\n",
    "## Step 3: Open the Jupyter Notebook\n",
    "\n",
    "1. Open the Anaconda Navigator program on your computer.\n",
    "2. Open \"Jupyter Notebook\" from there.\n",
    "3. Navigate to the Python Fundamentals folder. It will likely be called `Python-Fundamentals-main`. Depending on what your home directory is, this most likely mean clicking the \"Desktop\" folder, at which point the folder should be visible.\n",
    "4. Click on `Python-Fundamentals-main`.\n",
    "5. Navigate to `lessons/Part1`.\n",
    "\n",
    "You should then be able to see the files available for Part 1.\n",
    "\n",
    "Let's get programming!"
   ]
  }
 ],
 "metadata": {
  "kernelspec": {
   "display_name": "Python 3 (ipykernel)",
   "language": "python",
   "name": "python3"
  },
  "language_info": {
   "codemirror_mode": {
    "name": "ipython",
    "version": 3
   },
   "file_extension": ".py",
   "mimetype": "text/x-python",
   "name": "python",
   "nbconvert_exporter": "python",
   "pygments_lexer": "ipython3",
   "version": "3.9.12"
  }
 },
 "nbformat": 4,
 "nbformat_minor": 4
}
